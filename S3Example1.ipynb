{
  "nbformat": 4,
  "nbformat_minor": 0,
  "metadata": {
    "colab": {
      "provenance": [],
      "authorship_tag": "ABX9TyOmsUd1meAUD9j1O0ebxCq1",
      "include_colab_link": true
    },
    "kernelspec": {
      "name": "python3",
      "display_name": "Python 3"
    },
    "language_info": {
      "name": "python"
    }
  },
  "cells": [
    {
      "cell_type": "markdown",
      "metadata": {
        "id": "view-in-github",
        "colab_type": "text"
      },
      "source": [
        "<a href=\"https://colab.research.google.com/github/lucaskydelima/Optimization-with-Python-Pyomo/blob/main/S3Example1.ipynb\" target=\"_parent\"><img src=\"https://colab.research.google.com/assets/colab-badge.svg\" alt=\"Open In Colab\"/></a>"
      ]
    },
    {
      "cell_type": "code",
      "execution_count": null,
      "metadata": {
        "id": "soJmGBbO9rDA"
      },
      "outputs": [],
      "source": [
        "! pip install pyomo\n",
        "! apt-get install -y -qq glpk-utils"
      ]
    },
    {
      "cell_type": "code",
      "source": [
        "import pyomo.environ as pyo\n",
        "from pyomo.opt import SolverFactory"
      ],
      "metadata": {
        "id": "7rUjCEyY9vY_"
      },
      "execution_count": 5,
      "outputs": []
    },
    {
      "cell_type": "code",
      "source": [
        "# Defining the model\n",
        "model = pyo.ConcreteModel()\n",
        "\n",
        "# Set \n",
        "model.i = pyo.Set(initialize=('compact', 'midsize', 'large'))\n",
        "\n",
        "# Params\n",
        "model.phi = pyo.Param(model.i, initialize={'compact':2000, 'midsize':3000, 'large':4000})\n",
        "\n",
        "model.mu = pyo.Param(model.i, initialize={'compact':1000, 'midsize':1000, 'large':1000})\n",
        "\n",
        "model.alpha = pyo.Param(model.i, initialize={'compact':{'steel': 1.5, 'labor': 30},\n",
        "                                             'midsize':{'steel':3, 'labor':25},\n",
        "                                             'large':{'steel':5, 'labor':40 }})\n",
        "model.sigma = pyo.Param(initialize=6000)\n",
        "\n",
        "model.gamma = pyo.Param(initialize=60000)\n",
        "\n",
        "# Defining big M parameter to be used as upper bound for variable x\n",
        "model.M = pyo.Param(model.i, initialize={'compact':2000, 'midsize':2000, 'large':1200})\n",
        "\n",
        "# Function that returns bounds on variable x\n",
        "def bounds_for_x(model, l):\n",
        "  return (0, model.M[l])\n",
        "# Here, l is just a placeholder for the set i\n",
        "\n",
        "# Decision Variables\n",
        "model.x = pyo.Var(model.i, domain=pyo.NonNegativeIntegers, bounds=bounds_for_x)\n",
        "# Note: bounds for x: lower bound = 0, upper bound depends on big M value - define M as parameter first!\n",
        "\n",
        "model.z = pyo.Var(model.i, domain=pyo.Binary)\n",
        "\n",
        "# Objective Function\n",
        "def Objective_rule(model):\n",
        "  return sum(model.x[i]*model.phi[i] for i in model.i)\n",
        "\n",
        "model.obj = pyo.Objective(rule=Objective_rule, sense=pyo.maximize)\n",
        "\n",
        "# Constraints\n",
        "def Constraint_1(model):\n",
        "  return sum(model.x[i]*model.alpha[i]['steel'] for i in model.i) <= model.sigma\n",
        "\n",
        "model.const1 = pyo.Constraint(rule=Constraint_1, doc = 'Steel constraint')\n",
        "\n",
        "def Constraint_2(model):\n",
        "  return sum(model.x[i]*model.alpha[i]['labor'] for i in model.i) <= model.gamma\n",
        "\n",
        "model.const2 = pyo.Constraint(rule=Constraint_2, doc = 'Labor constraint')\n",
        "\n",
        "def Constraint_3(model, i):\n",
        "  return model.x[i] <= model.z[i]*model.M[i]\n",
        "\n",
        "model.const3 = pyo.Constraint(model.i, rule=Constraint_3, doc = 'Part 1 for the either-or constraint equivalent for each car')\n",
        "\n",
        "def Constraint_4(model, i):\n",
        "  return model.mu[i] - model.x[i] <= model.M[i]*(1-model.z[i])\n",
        "\n",
        "model.const4 = pyo.Constraint(model.i, rule=Constraint_4, doc = 'Part 2 for the either-or constraint equivalent for each car')\n",
        "\n",
        "\n",
        "# Solve\n",
        "results = pyo.SolverFactory('glpk', executable='/usr/bin/glpsol').solve(model)\n",
        "\n",
        "results.write()\n",
        "print('\\n RESULTS \\n')\n",
        "print('Objective Function =', model.obj())\n",
        "for i in model.i:\n",
        "  print('Number of cars of type', i, 'will be produced is =>', model.x[i]())\n",
        "\n",
        "# Model listing - useful for debugging purposes!\n",
        "# model.pprint()"
      ],
      "metadata": {
        "colab": {
          "base_uri": "https://localhost:8080/"
        },
        "id": "_cbQQdCR90Ev",
        "outputId": "56454683-d5e5-4c21-918b-ac2b820c8ea6"
      },
      "execution_count": 13,
      "outputs": [
        {
          "output_type": "stream",
          "name": "stdout",
          "text": [
            "# ==========================================================\n",
            "# = Solver Results                                         =\n",
            "# ==========================================================\n",
            "# ----------------------------------------------------------\n",
            "#   Problem Information\n",
            "# ----------------------------------------------------------\n",
            "Problem: \n",
            "- Name: unknown\n",
            "  Lower bound: 6000000.0\n",
            "  Upper bound: 6000000.0\n",
            "  Number of objectives: 1\n",
            "  Number of constraints: 9\n",
            "  Number of variables: 7\n",
            "  Number of nonzeros: 19\n",
            "  Sense: maximize\n",
            "# ----------------------------------------------------------\n",
            "#   Solver Information\n",
            "# ----------------------------------------------------------\n",
            "Solver: \n",
            "- Status: ok\n",
            "  Termination condition: optimal\n",
            "  Statistics: \n",
            "    Branch and bound: \n",
            "      Number of bounded subproblems: 5\n",
            "      Number of created subproblems: 5\n",
            "  Error rc: 0\n",
            "  Time: 0.010562658309936523\n",
            "# ----------------------------------------------------------\n",
            "#   Solution Information\n",
            "# ----------------------------------------------------------\n",
            "Solution: \n",
            "- number of solutions: 0\n",
            "  number of solutions displayed: 0\n",
            "\n",
            " RESULTS \n",
            "\n",
            "Objective Function = 6000000.0\n",
            "Number of cars of type compact will be produced is => 0.0\n",
            "Number of cars of type midsize will be produced is => 2000.0\n",
            "Number of cars of type large will be produced is => 0.0\n"
          ]
        }
      ]
    }
  ]
}