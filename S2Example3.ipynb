{
  "nbformat": 4,
  "nbformat_minor": 0,
  "metadata": {
    "colab": {
      "provenance": [],
      "authorship_tag": "ABX9TyN18tgpt/luU5xcgD/U6lQu",
      "include_colab_link": true
    },
    "kernelspec": {
      "name": "python3",
      "display_name": "Python 3"
    },
    "language_info": {
      "name": "python"
    }
  },
  "cells": [
    {
      "cell_type": "markdown",
      "metadata": {
        "id": "view-in-github",
        "colab_type": "text"
      },
      "source": [
        "<a href=\"https://colab.research.google.com/github/lucaskydelima/Optimization-with-Python-Pyomo/blob/main/S2Example3.ipynb\" target=\"_parent\"><img src=\"https://colab.research.google.com/assets/colab-badge.svg\" alt=\"Open In Colab\"/></a>"
      ]
    },
    {
      "cell_type": "code",
      "execution_count": null,
      "metadata": {
        "id": "OdFGAtYqyiGE"
      },
      "outputs": [],
      "source": [
        "! pip install pyomo"
      ]
    },
    {
      "cell_type": "code",
      "source": [
        "import os\n",
        "import pyomo.environ as pyo\n",
        "from pyomo.opt import SolverFactory"
      ],
      "metadata": {
        "id": "z4N9O8173c_m"
      },
      "execution_count": 2,
      "outputs": []
    },
    {
      "cell_type": "code",
      "source": [
        "# Defining the model\n",
        "model = pyo.ConcreteModel()\n",
        "\n",
        "# Sets\n",
        "model.w = pyo.Set(initialize=('ICBM', 'MRBM-1', 'LR-Bomber', 'F-Bomber', 'MRBM-2'))\n",
        "model.t = pyo.RangeSet(1,20)\n",
        "\n",
        "model.t_spec = pyo.Set(initialize=(1,6,10,14,15,16,20))\n",
        "\n",
        "# Params\n",
        "model.phi = pyo.Param(model.w, model.t, initialize={('ICBM',1):1.00,('ICBM',2):0.95,('ICBM',3):1.00,('ICBM',4):1.00,('ICBM',5):1.00,\n",
        "                                                    ('ICBM',6):0.85,('ICBM',7):0.90,('ICBM',8):0.85,('ICBM',9):0.80,('ICBM',10):1.00,\n",
        "                                                    ('ICBM',11):1.00,('ICBM',12):1.00,('ICBM',13):1.00,('ICBM',14):1.00,('ICBM',15):1.00,\n",
        "                                                    ('ICBM',16):1.00,('ICBM',17):1.00,('ICBM',18):0.95,('ICBM',19):1.00,('ICBM',20):1.00,\n",
        "\n",
        "                                                    ('MRBM-1',1):0.84,('MRBM-1',2):0.83,('MRBM-1',3):0.85,('MRBM-1',4):0.84,('MRBM-1',5):0.85,\n",
        "                                                    ('MRBM-1',6):0.81,('MRBM-1',7):0.81,('MRBM-1',8):0.82,('MRBM-1',9):0.80,('MRBM-1',10):0.86,\n",
        "                                                    ('MRBM-1',11):1.00,('MRBM-1',12):0.98,('MRBM-1',13):1.00,('MRBM-1',14):0.88,('MRBM-1',15):0.87,\n",
        "                                                    ('MRBM-1',16):0.88,('MRBM-1',17):0.85,('MRBM-1',18):0.84,('MRBM-1',19):0.85,('MRBM-1',20):0.85, \n",
        "\n",
        "                                                    ('LR-Bomber',1):0.96,('LR-Bomber',2):0.95,('LR-Bomber',3):0.96,('LR-Bomber',4):0.96,('LR-Bomber',5):0.96,\n",
        "                                                    ('LR-Bomber',6):0.90,('LR-Bomber',7):0.92,('LR-Bomber',8):0.91,('LR-Bomber',9):0.92,('LR-Bomber',10):0.95,\n",
        "                                                    ('LR-Bomber',11):0.99,('LR-Bomber',12):0.98,('LR-Bomber',13):0.99,('LR-Bomber',14):0.98,('LR-Bomber',15):0.97,\n",
        "                                                    ('LR-Bomber',16):0.98,('LR-Bomber',17):0.95,('LR-Bomber',18):0.92,('LR-Bomber',19):0.93,('LR-Bomber',20):0.92,\n",
        "\n",
        "                                                    ('F-Bomber',1):1.00,('F-Bomber',2):1.00,('F-Bomber',3):1.00,('F-Bomber',4):1.00,('F-Bomber',5):1.00,\n",
        "                                                    ('F-Bomber',6):1.00,('F-Bomber',7):1.00,('F-Bomber',8):1.00,('F-Bomber',9):1.00,('F-Bomber',10):0.96,\n",
        "                                                    ('F-Bomber',11):0.91,('F-Bomber',12):0.92,('F-Bomber',13):0.91,('F-Bomber',14):0.92,('F-Bomber',15):0.98,\n",
        "                                                    ('F-Bomber',16):0.93,('F-Bomber',17):1.00,('F-Bomber',18):1.00,('F-Bomber',19):1.00,('F-Bomber',20):1.00,\n",
        "\n",
        "                                                    ('MRBM-2',1):0.92,('MRBM-2',2):0.94,('MRBM-2',3):0.92,('MRBM-2',4):0.95,('MRBM-2',5):0.95,\n",
        "                                                    ('MRBM-2',6):0.98,('MRBM-2',7):0.98,('MRBM-2',8):1.00,('MRBM-2',9):1.00,('MRBM-2',10):0.90,\n",
        "                                                    ('MRBM-2',11):0.95,('MRBM-2',12):0.96,('MRBM-2',13):0.91,('MRBM-2',14):0.98,('MRBM-2',15):0.99,\n",
        "                                                    ('MRBM-2',16):0.99,('MRBM-2',17):1.00,('MRBM-2',18):1.00,('MRBM-2',19):1.00,('MRBM-2',20):1.00})\n",
        "\n",
        "# Total number weapons available per type w\n",
        "model.alpha = pyo.Param(model.w, initialize={'ICBM':200, 'MRBM-1':100, 'LR-Bomber':300, 'F-Bomber':150, 'MRBM-2':250})\n",
        "\n",
        "# Military value of targets per type t\n",
        "model.beta = pyo.Param(model.t, initialize={1:60, 2:50, 3:50, 4:75, 5:40, 6:60, 7:35, 8:30, 9:25, 10:150,\n",
        "                                            11:30, 12:45, 13:125, 14:200, 15:200, 16:130, 17:100, 18:100, 19:100, 20:150})\n",
        "\n",
        "# Minimum number of weapons to be assigned to specified targets \n",
        "model.gama = pyo.Param(model.t_spec, initialize={1:30, 6:100, 10:40, 14:50, 15:70, 16:35, 20:10})\n",
        "\n",
        "# Decision Variable (NLP problems - its variables should always be defined as continuous)\n",
        "model.x = pyo.Var(model.w, model.t, domain=pyo.NonNegativeReals)\n",
        "\n",
        "# Objective Function\n",
        "from functools import reduce\n",
        "import operator\n",
        "\n",
        "def prod(iterable):\n",
        "  return reduce(operator.mul, iterable, 1)\n",
        "\n",
        "def Objective_rule(model):\n",
        "  return sum(model.beta[t] * (1-prod(model.phi[w,t]**model.x[w,t] for w in model.w)) for t in model.t)\n",
        "\n",
        "model.obj = pyo.Objective(rule=Objective_rule, sense=pyo.maximize, doc = 'Total expected damage done to targets')\n",
        "\n",
        "# Constraints\n",
        "def Constraint_1(model, w):\n",
        "  return sum(model.x[w,t] for t in model.t) <= model.alpha[w]\n",
        "\n",
        "model.const1 = pyo.Constraint(model.w, rule=Constraint_1, doc = 'upper limit on number of weapons assigned based on availability')\n",
        "\n",
        "def Constraint_2(model, t_spec):\n",
        "  return sum(model.x[w,t_spec] for w in model.w) >= model.gama[t_spec]\n",
        "  \n",
        "model.const2 = pyo.Constraint(model.t_spec, rule=Constraint_2, doc = 'lower limit on weapons assigned')\n",
        "\n",
        "# Solve\n",
        "os.environ['NEOS_EMAIL'] = 'lucaskydelima@gmail.com'\n",
        "results = pyo.SolverManagerFactory('neos').solve(model, opt='ipopt')\n",
        "\n",
        "results.write()\n",
        "print(\"\\n RESULTS \\n\")\n",
        "print('Total expected damage = ', model.obj())\n",
        "for w in model.w:\n",
        "  for t in model.t:\n",
        "    if(model.x[w,t]() > 1):\n",
        "      print('Number of weapons of type',w,'assigned to target', t, '=>', model.x[w,t]())"
      ],
      "metadata": {
        "colab": {
          "base_uri": "https://localhost:8080/"
        },
        "id": "KfkY06p77sHT",
        "outputId": "61e55090-b22c-4703-fe37-f2ff1d7df250"
      },
      "execution_count": 7,
      "outputs": [
        {
          "output_type": "stream",
          "name": "stdout",
          "text": [
            "# ==========================================================\n",
            "# = Solver Results                                         =\n",
            "# ==========================================================\n",
            "# ----------------------------------------------------------\n",
            "#   Problem Information\n",
            "# ----------------------------------------------------------\n",
            "Problem: \n",
            "- Lower bound: -inf\n",
            "  Upper bound: inf\n",
            "  Number of objectives: 1\n",
            "  Number of constraints: 12\n",
            "  Number of variables: 100\n",
            "  Sense: unknown\n",
            "# ----------------------------------------------------------\n",
            "#   Solver Information\n",
            "# ----------------------------------------------------------\n",
            "Solver: \n",
            "- Status: ok\n",
            "  Message: Ipopt 3.14.5\\x3a Optimal Solution Found\n",
            "  Termination condition: optimal\n",
            "  Id: 0\n",
            "# ----------------------------------------------------------\n",
            "#   Solution Information\n",
            "# ----------------------------------------------------------\n",
            "Solution: \n",
            "- number of solutions: 0\n",
            "  number of solutions displayed: 0\n",
            "\n",
            " RESULTS \n",
            "\n",
            "Total expected damage =  1735.5695806926828\n",
            "Number of weapons of type ICBM assigned to target 2 => 13.516460293073282\n",
            "Number of weapons of type ICBM assigned to target 6 => 99.999998533101\n",
            "Number of weapons of type ICBM assigned to target 7 => 39.100041980172385\n",
            "Number of weapons of type ICBM assigned to target 8 => 27.06673282649615\n",
            "Number of weapons of type ICBM assigned to target 9 => 20.316767710828692\n",
            "Number of weapons of type MRBM-1 assigned to target 2 => 1.3604580818101055\n",
            "Number of weapons of type MRBM-1 assigned to target 4 => 23.489534312141128\n",
            "Number of weapons of type MRBM-1 assigned to target 5 => 20.89960526599499\n",
            "Number of weapons of type MRBM-1 assigned to target 15 => 26.211182869929864\n",
            "Number of weapons of type MRBM-1 assigned to target 16 => 24.23646653785187\n",
            "Number of weapons of type MRBM-1 assigned to target 17 => 3.8027536615563475\n",
            "Number of weapons of type LR-Bomber assigned to target 15 => 43.78881636006446\n",
            "Number of weapons of type LR-Bomber assigned to target 17 => 72.03383675794821\n",
            "Number of weapons of type LR-Bomber assigned to target 18 => 57.55153969671256\n",
            "Number of weapons of type LR-Bomber assigned to target 19 => 64.21150456949366\n",
            "Number of weapons of type LR-Bomber assigned to target 20 => 62.41430405960588\n",
            "Number of weapons of type F-Bomber assigned to target 11 => 33.19736272961265\n",
            "Number of weapons of type F-Bomber assigned to target 12 => 40.93425800909737\n",
            "Number of weapons of type F-Bomber assigned to target 14 => 58.823753006289145\n",
            "Number of weapons of type F-Bomber assigned to target 16 => 17.044627496382997\n",
            "Number of weapons of type MRBM-2 assigned to target 1 => 50.815452596865875\n",
            "Number of weapons of type MRBM-2 assigned to target 2 => 45.40819262276283\n",
            "Number of weapons of type MRBM-2 assigned to target 3 => 48.62886061848321\n",
            "Number of weapons of type MRBM-2 assigned to target 10 => 51.13229639110288\n",
            "Number of weapons of type MRBM-2 assigned to target 13 => 54.0151981351708\n"
          ]
        }
      ]
    }
  ]
}