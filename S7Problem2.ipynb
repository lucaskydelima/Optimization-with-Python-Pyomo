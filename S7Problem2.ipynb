{
  "nbformat": 4,
  "nbformat_minor": 0,
  "metadata": {
    "colab": {
      "provenance": [],
      "authorship_tag": "ABX9TyPNnMV/nY6aZIKKYY5NPaUX",
      "include_colab_link": true
    },
    "kernelspec": {
      "name": "python3",
      "display_name": "Python 3"
    },
    "language_info": {
      "name": "python"
    }
  },
  "cells": [
    {
      "cell_type": "markdown",
      "metadata": {
        "id": "view-in-github",
        "colab_type": "text"
      },
      "source": [
        "<a href=\"https://colab.research.google.com/github/lucaskydelima/Optimization-with-Python-Pyomo/blob/main/S7Problem2.ipynb\" target=\"_parent\"><img src=\"https://colab.research.google.com/assets/colab-badge.svg\" alt=\"Open In Colab\"/></a>"
      ]
    },
    {
      "cell_type": "code",
      "execution_count": null,
      "metadata": {
        "id": "F12icK5KtUoL"
      },
      "outputs": [],
      "source": [
        "! pip install pyomo\n"
      ]
    },
    {
      "cell_type": "code",
      "source": [
        "import os\n",
        "import pandas as pd\n",
        "import math\n",
        "import pyomo.environ as pyo\n",
        "from pyomo.opt import SolverFactory"
      ],
      "metadata": {
        "id": "ubsZ6M1ytdSq"
      },
      "execution_count": 2,
      "outputs": []
    },
    {
      "cell_type": "code",
      "source": [
        "model = pyo.ConcreteModel()\n",
        "\n",
        "#Sets\n",
        "model.i = pyo.RangeSet(1,15)\n",
        "\n",
        "#Parameters\n",
        "W = pd.read_excel('S7P2_Data.xlsx',sheet_name='Sheet1',header=0,index_col=0,usecols='A:B')\n",
        "#W['D'][2]\n",
        "\n",
        "model.Pload = pyo.Param(initialize = 300)\n",
        "Pload = model.Pload\n",
        "model.Pmax = pyo.Param(initialize = 1000)\n",
        "Pmax = model.Pmax\n",
        "model.defml = pyo.Param(initialize = 6)\n",
        "defml = model.defml\n",
        "model.deflpm = pyo.Param(initialize = 1.25)\n",
        "deflpm = model.deflpm\n",
        "model.Lmax = pyo.Param(initialize = 14)\n",
        "Lmax = model.Lmax\n",
        "model.Dcm = pyo.Param(initialize = 3)\n",
        "Dcm = model.Dcm\n",
        "model.dWm = pyo.Param(initialize = 0.2)\n",
        "dWm = model.dWm\n",
        "model.S = pyo.Param(initialize = 234440)\n",
        "S = model.S\n",
        "model.G = pyo.Param(initialize = 11600000)\n",
        "G = model.G\n",
        "\n",
        "#Decision Variables\n",
        "#Positive Reals\n",
        "model.Dc = pyo.Var(domain = pyo.NonNegativeReals, bounds=(0.4,3))\n",
        "Dc = model.Dc\n",
        "model.dW = pyo.Var(domain = pyo.NonNegativeReals, bounds=(0.2,None))\n",
        "dW = model.dW\n",
        "model.defl = pyo.Var(domain = pyo.NonNegativeReals, bounds=(0.0018,6))\n",
        "defl = model.defl\n",
        "model.C = pyo.Var(domain = pyo.NonNegativeReals, bounds=(3,None))\n",
        "C = model.C\n",
        "model.K = pyo.Var(domain = pyo.NonNegativeReals, bounds=(None,560))\n",
        "K = model.K\n",
        "\n",
        "#Integer\n",
        "model.N = pyo.Var(domain = pyo.NonNegativeIntegers,bounds=(1,None))\n",
        "N = model.N\n",
        "\n",
        "#Binary\n",
        "model.x = pyo.Var(model.i,domain=pyo.Binary)\n",
        "x = model.x\n",
        "\n",
        "#Objective Function\n",
        "def Objective_rule(model):\n",
        "  return math.pi*Dc*(dW**2)*(N+2)/4\n",
        "model.Objf = pyo.Objective(rule=Objective_rule,sense=pyo.minimize)\n",
        "\n",
        "#Constraints\n",
        "def Constraint1(model):\n",
        "  return Dc/dW == C\n",
        "model.Const1 = pyo.Constraint(rule=Constraint1)\n",
        "\n",
        "def Constraint2(model):\n",
        "  return ((4*C-1)/(4*C-4))+0.615/C == K\n",
        "model.Const2 = pyo.Constraint(rule=Constraint2)\n",
        "\n",
        "def Constraint3(model):\n",
        "  return (8*K*Pmax*Dc/(math.pi*dW**3)) <= S\n",
        "model.Const3 = pyo.Constraint(rule=Constraint3)\n",
        "\n",
        "def Constraint4(model):\n",
        "  return 8*(Dc**3)*N/(G*(dW**2)) == defl\n",
        "model.Const4 = pyo.Constraint(rule=Constraint4)\n",
        "\n",
        "def Constraint5(model):\n",
        "  return Pmax*defl+1.05*(N+2)*dW <= Lmax\n",
        "model.Const5 = pyo.Constraint(rule=Constraint5)\n",
        "\n",
        "def Constraint6(model,i):\n",
        "  return sum(W['D'][i]*x[i] for i in model.i) == dW\n",
        "model.Const6 = pyo.Constraint(rule=Constraint6)\n",
        "\n",
        "def Constraint7(model,i):\n",
        "  return sum(x[i] for i in model.i) == 1\n",
        "model.Const7 = pyo.Constraint(rule=Constraint7)\n",
        "\n",
        "# Solve\n",
        "os.environ['NEOS_EMAIL'] = 'lucaskydelima@gmail.com'\n",
        "solver_manager = pyo.SolverManagerFactory('neos')\n",
        "results = solver_manager.solve(model, opt='couenne')\n",
        "\n",
        "print(results)\n",
        "print('Objective Function = ',model.Objf())\n",
        "print('Number of Coils = ', N())\n",
        "print('Coil Spring Diameter is= ',Dc())\n",
        "print('Wire Diameter is= ', dW())\n",
        "for i in model.i:\n",
        "  print('Wire Type',i,'is selected', x[i]()==1)\n"
      ],
      "metadata": {
        "id": "tgi_bYqutqwE"
      },
      "execution_count": null,
      "outputs": []
    }
  ]
}