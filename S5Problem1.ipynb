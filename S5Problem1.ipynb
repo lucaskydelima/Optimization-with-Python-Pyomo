{
  "nbformat": 4,
  "nbformat_minor": 0,
  "metadata": {
    "colab": {
      "provenance": [],
      "authorship_tag": "ABX9TyP6Nv4db3ga/FLWgGTtuSGd",
      "include_colab_link": true
    },
    "kernelspec": {
      "name": "python3",
      "display_name": "Python 3"
    },
    "language_info": {
      "name": "python"
    }
  },
  "cells": [
    {
      "cell_type": "markdown",
      "metadata": {
        "id": "view-in-github",
        "colab_type": "text"
      },
      "source": [
        "<a href=\"https://colab.research.google.com/github/lucaskydelima/Optimization-with-Python-Pyomo/blob/main/S5Problem1.ipynb\" target=\"_parent\"><img src=\"https://colab.research.google.com/assets/colab-badge.svg\" alt=\"Open In Colab\"/></a>"
      ]
    },
    {
      "cell_type": "code",
      "execution_count": 11,
      "metadata": {
        "colab": {
          "base_uri": "https://localhost:8080/"
        },
        "id": "ZIzNNZFKIyR9",
        "outputId": "03399cf3-9fd6-4789-fd94-c4df28277be3"
      },
      "outputs": [
        {
          "output_type": "stream",
          "name": "stdout",
          "text": [
            "Looking in indexes: https://pypi.org/simple, https://us-python.pkg.dev/colab-wheels/public/simple/\n",
            "Requirement already satisfied: pyomo in /usr/local/lib/python3.8/dist-packages (6.5.0)\n",
            "Requirement already satisfied: ply in /usr/local/lib/python3.8/dist-packages (from pyomo) (3.11)\n"
          ]
        }
      ],
      "source": [
        "! pip install pyomo\n",
        "! pip install -q cplex"
      ]
    },
    {
      "cell_type": "code",
      "source": [
        "import pyomo.environ as pyo\n",
        "from pyomo.opt import SolverFactory"
      ],
      "metadata": {
        "id": "WvpD9m7zJfrN"
      },
      "execution_count": 12,
      "outputs": []
    },
    {
      "cell_type": "code",
      "source": [
        "from pyomo.core.base.objective import maximize\n",
        "from pyomo.core.base.set_types import NonNegativeIntegers\n",
        "\n",
        "# Defining the model\n",
        "model = pyo.ConcreteModel()\n",
        "\n",
        "# Set\n",
        "model.i = pyo.Set(initialize = ['Shirts', 'Shorts', 'Pants'])\n",
        "\n",
        "# Params\n",
        "model.P = pyo.Param(model.i, initialize={'Shirts':12, 'Shorts':8, 'Pants':15})\n",
        "P = model.P\n",
        "\n",
        "model.C = pyo.Param(model.i, initialize={'Shirts':6, 'Shorts':4, 'Pants':8})\n",
        "C = model.C\n",
        "\n",
        "model.L = pyo.Param(model.i, initialize={'Shirts':3, 'Shorts':2, 'Pants':6})\n",
        "L = model.L\n",
        "\n",
        "model.Cl = pyo.Param(model.i, initialize={'Shirts':4, 'Shorts':3, 'Pants':4})\n",
        "Cl = model.Cl\n",
        "\n",
        "model.R = pyo.Param(model.i, initialize={'Shirts':200, 'Shorts':150, 'Pants':100})\n",
        "R = model.R\n",
        "# BIG-M Value\n",
        "model.M = pyo.Param(model.i, initialize={'Shirts':50, 'Shorts':75, 'Pants':40})\n",
        "M = model.M\n",
        "\n",
        "# Decision Variable\n",
        "model.x = pyo.Var(model.i, within=pyo.Integers)\n",
        "x = model.x\n",
        "\n",
        "model.y = pyo.Var(model.i, within=pyo.Binary)\n",
        "y = model.y\n",
        "\n",
        "# Objective Function\n",
        "def Objective_rule(model):\n",
        "  return sum(P[i]*x[i] - C[i]*x[i] - R[i]*y[i] for i in model.i)\n",
        "\n",
        "model.obj = pyo.Objective(rule = Objective_rule, sense = maximize)\n",
        "\n",
        "\n",
        "# Constraints\n",
        "def Constraint_1(model, i):\n",
        "  return sum(L[i] * x[i] for i in model.i) <= 150\n",
        "\n",
        "model.const1 = pyo.Constraint(model.i, rule = Constraint_1)\n",
        "\n",
        "def Constraint_2(model, i):\n",
        "  return sum(Cl[i] * x[i] for i in model.i) <= 160\n",
        "\n",
        "model.const2 = pyo.Constraint(model.i, rule = Constraint_2)\n",
        "\n",
        "def Constraint_3(model, i):\n",
        "  return x[i] <= M[i]*y[i] \n",
        "\n",
        "model.const = pyo.Constraint(model.i, rule = Constraint_3)\n",
        "\n",
        "# Solve\n",
        "solver = pyo.SolverFactory('cplex_direct')\n",
        "results = solver.solve(model)\n",
        "\n",
        "print(results)\n",
        "print('Objective Function = ', model.obj() )\n",
        "for i in model.i:\n",
        "  print('Number of', i, 'produced each week = ', x[i]())\n"
      ],
      "metadata": {
        "colab": {
          "base_uri": "https://localhost:8080/"
        },
        "id": "AYgWPll5Jxjn",
        "outputId": "b3ae42ca-2c3c-4e55-9bec-6e6e256c02c1"
      },
      "execution_count": 23,
      "outputs": [
        {
          "output_type": "stream",
          "name": "stdout",
          "text": [
            "\n",
            "Problem: \n",
            "- Name: \n",
            "  Lower bound: 75.0\n",
            "  Upper bound: 75.0\n",
            "  Number of objectives: 1\n",
            "  Number of constraints: 9\n",
            "  Number of variables: 6\n",
            "  Number of binary variables: 3\n",
            "  Number of integer variables: 3\n",
            "  Number of continuous variables: 0\n",
            "  Number of nonzeros: None\n",
            "  Sense: -1\n",
            "Solver: \n",
            "- Name: CPLEX 22.1.0.0\n",
            "  Status: ok\n",
            "  Wallclock time: 0.003885030746459961\n",
            "  Termination condition: optimal\n",
            "Solution: \n",
            "- number of solutions: 0\n",
            "  number of solutions displayed: 0\n",
            "\n",
            "Objective Function =  75.0\n",
            "Number of Shirts produced each week =  0.0\n",
            "Number of Shorts produced each week =  0.0\n",
            "Number of Pants produced each week =  25.0\n"
          ]
        }
      ]
    }
  ]
}