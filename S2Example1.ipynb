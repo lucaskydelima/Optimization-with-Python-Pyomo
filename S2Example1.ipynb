{
  "nbformat": 4,
  "nbformat_minor": 0,
  "metadata": {
    "colab": {
      "provenance": [],
      "authorship_tag": "ABX9TyON4n78X+gDSQaChe/TR4/8",
      "include_colab_link": true
    },
    "kernelspec": {
      "name": "python3",
      "display_name": "Python 3"
    },
    "language_info": {
      "name": "python"
    }
  },
  "cells": [
    {
      "cell_type": "markdown",
      "metadata": {
        "id": "view-in-github",
        "colab_type": "text"
      },
      "source": [
        "<a href=\"https://colab.research.google.com/github/lucaskydelima/Optimization-with-Python-Pyomo/blob/main/S2Example1.ipynb\" target=\"_parent\"><img src=\"https://colab.research.google.com/assets/colab-badge.svg\" alt=\"Open In Colab\"/></a>"
      ]
    },
    {
      "cell_type": "code",
      "execution_count": null,
      "metadata": {
        "id": "r5Rns83NFIcp"
      },
      "outputs": [],
      "source": [
        "! pip install pyomo\n",
        "! apt-get install -y -qq glpk-utils"
      ]
    },
    {
      "cell_type": "code",
      "source": [
        "import os\n",
        "import pyomo.environ as pyo\n",
        "from pyomo.opt import SolverFactory"
      ],
      "metadata": {
        "id": "e0kGaMMEIEF7"
      },
      "execution_count": 10,
      "outputs": []
    },
    {
      "cell_type": "code",
      "source": [
        "# Defining the model\n",
        "model_linear_regression = pyo.ConcreteModel()\n",
        "model_nonlinear_regresion = pyo.ConcreteModel()\n",
        "\n",
        "# Set\n",
        "model_linear_regression.m = pyo.RangeSet(1,6)\n",
        "model_nonlinear_regresion.m = pyo.RangeSet(1,6)\n",
        "\n",
        "# Params\n",
        "model_linear_regression.datapoints_x = pyo.Param(model_linear_regression.m, initialize={1:-5, 2:-3, 3:-1, 4:5, 5:3, 6:1})\n",
        "model_linear_regression.datapoints_y = pyo.Param(model_linear_regression.m, initialize={1:127, 2:151, 3:379, 4:421, 5:460, 6:426})\n",
        "\n",
        "model_nonlinear_regresion.datapoints_x = pyo.Param(model_nonlinear_regresion.m, initialize={1:-5, 2:-3, 3:-1, 4:5, 5:3, 6:1})\n",
        "model_nonlinear_regresion.datapoints_y = pyo.Param(model_nonlinear_regresion.m, initialize={1:127, 2:151, 3:379, 4:421, 5:460, 6:426})\n",
        "\n",
        "# Decision Variables\n",
        "model_linear_regression.a1 = pyo.Var(domain=pyo.Reals)\n",
        "model_linear_regression.a2 = pyo.Var(domain=pyo.Reals)\n",
        "\n",
        "# Starting points for coefficients: b1: 500, b2:-150, b3:-0.2  \n",
        "# Given bounds on the coefficients: -5<= b3 <=5\n",
        "model_nonlinear_regresion.b1 = pyo.Var(domain=pyo.Reals, initialize= 500)\n",
        "model_nonlinear_regresion.b2 = pyo.Var(domain=pyo.Reals, initialize=-150)\n",
        "model_nonlinear_regresion.b3 = pyo.Var(domain=pyo.Reals, initialize=-0.2, bounds=(-5,5))\n",
        "\n",
        "# Objective Function\n",
        "def Rule_model_linear_regression(model):\n",
        "  return sum((model_linear_regression.datapoints_y[m] - \n",
        "              (model_linear_regression.a1 + model_linear_regression.a2*model_linear_regression.datapoints_x[m]))**2 for m in model_linear_regression.m)\n",
        "  \n",
        "model_linear_regression.obj = pyo.Objective(rule=Rule_model_linear_regression, sense=pyo.minimize)\n",
        "\n",
        "def Rule_model_nonlinear_regression(model):\n",
        "  return sum((model_nonlinear_regresion.datapoints_y[m] - \n",
        "              (model_nonlinear_regresion.b1 + model_nonlinear_regresion.b2*pyo.exp(model_nonlinear_regresion.b3*model_nonlinear_regresion.datapoints_x[m])))**2 for m in model_nonlinear_regresion.m)\n",
        "  \n",
        "model_nonlinear_regresion.obj = pyo.Objective(rule=Rule_model_nonlinear_regression, sense=pyo.minimize)\n",
        "\n",
        "# Solve\n",
        "os.environ['NEOS_EMAIL'] = 'lucaskydelima@gmail.com'\n",
        "results = pyo.SolverManagerFactory('neos').solve(model_linear_regression, opt='ipopt')\n",
        "\n",
        "results.write()\n",
        "print('\\n RESULTS \\n')\n",
        "print('Squared deviation for linear regression model =', model_linear_regression.obj())\n",
        "print('Coefficient 1 for linear regression (a1) = ', model_linear_regression.a1())\n",
        "print('Coefficient 2 for linear regression (a2) = ', model_linear_regression.a2())\n",
        "\n",
        "results = pyo.SolverManagerFactory('neos').solve(model_nonlinear_regresion, opt='ipopt')\n",
        "results.write()\n",
        "print('\\n RESULTS \\n')\n",
        "print('Squared deviation for nonlinear regression model =', model_nonlinear_regresion.obj())\n",
        "print('Coefficient 1 for nonlinear regression (b1) = ', model_nonlinear_regresion.b1())\n",
        "print('Coefficient 2 for nonlinear regression (b2) = ', model_nonlinear_regresion.b2())\n",
        "print('Coefficient 3 for nonlinear regression (b3) = ', model_nonlinear_regresion.b3())\n"
      ],
      "metadata": {
        "colab": {
          "base_uri": "https://localhost:8080/"
        },
        "id": "P4LPwI9MIKPk",
        "outputId": "84ab08c9-84ca-402b-956d-fbf295973a91"
      },
      "execution_count": 17,
      "outputs": [
        {
          "output_type": "stream",
          "name": "stdout",
          "text": [
            "# ==========================================================\n",
            "# = Solver Results                                         =\n",
            "# ==========================================================\n",
            "# ----------------------------------------------------------\n",
            "#   Problem Information\n",
            "# ----------------------------------------------------------\n",
            "Problem: \n",
            "- Lower bound: -inf\n",
            "  Upper bound: inf\n",
            "  Number of objectives: 1\n",
            "  Number of constraints: 0\n",
            "  Number of variables: 2\n",
            "  Sense: unknown\n",
            "# ----------------------------------------------------------\n",
            "#   Solver Information\n",
            "# ----------------------------------------------------------\n",
            "Solver: \n",
            "- Status: ok\n",
            "  Message: Ipopt 3.14.5\\x3a Optimal Solution Found\n",
            "  Termination condition: optimal\n",
            "  Id: 0\n",
            "# ----------------------------------------------------------\n",
            "#   Solution Information\n",
            "# ----------------------------------------------------------\n",
            "Solution: \n",
            "- number of solutions: 0\n",
            "  number of solutions displayed: 0\n",
            "\n",
            " RESULTS \n",
            "\n",
            "Squared deviation for linear regression model = 24674.81904761905\n",
            "Coefficient 1 for linear regression (a1) =  327.3333333333333\n",
            "Coefficient 2 for linear regression (a2) =  34.91428571428571\n",
            "# ==========================================================\n",
            "# = Solver Results                                         =\n",
            "# ==========================================================\n",
            "# ----------------------------------------------------------\n",
            "#   Problem Information\n",
            "# ----------------------------------------------------------\n",
            "Problem: \n",
            "- Lower bound: -inf\n",
            "  Upper bound: inf\n",
            "  Number of objectives: 1\n",
            "  Number of constraints: 0\n",
            "  Number of variables: 3\n",
            "  Sense: unknown\n",
            "# ----------------------------------------------------------\n",
            "#   Solver Information\n",
            "# ----------------------------------------------------------\n",
            "Solver: \n",
            "- Status: ok\n",
            "  Message: Ipopt 3.14.5\\x3a Optimal Solution Found\n",
            "  Termination condition: optimal\n",
            "  Id: 0\n",
            "# ----------------------------------------------------------\n",
            "#   Solution Information\n",
            "# ----------------------------------------------------------\n",
            "Solution: \n",
            "- number of solutions: 0\n",
            "  number of solutions displayed: 0\n",
            "\n",
            " RESULTS \n",
            "\n",
            "Squared deviation for nonlinear regression model = 14085.1398489284\n",
            "Coefficient 1 for nonlinear regression (b1) =  516.6511741716723\n",
            "Coefficient 2 for nonlinear regression (b2) =  -149.35189369629194\n",
            "Coefficient 3 for nonlinear regression (b3) =  -0.20664276797259598\n"
          ]
        }
      ]
    }
  ]
}