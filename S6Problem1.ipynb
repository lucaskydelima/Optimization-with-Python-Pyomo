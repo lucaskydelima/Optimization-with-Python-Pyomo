{
  "nbformat": 4,
  "nbformat_minor": 0,
  "metadata": {
    "colab": {
      "provenance": [],
      "authorship_tag": "ABX9TyOU0wE6VxIf7BVH+WsAciDR",
      "include_colab_link": true
    },
    "kernelspec": {
      "name": "python3",
      "display_name": "Python 3"
    },
    "language_info": {
      "name": "python"
    }
  },
  "cells": [
    {
      "cell_type": "markdown",
      "metadata": {
        "id": "view-in-github",
        "colab_type": "text"
      },
      "source": [
        "<a href=\"https://colab.research.google.com/github/lucaskydelima/Optimization-with-Python-Pyomo/blob/main/S6Problem1.ipynb\" target=\"_parent\"><img src=\"https://colab.research.google.com/assets/colab-badge.svg\" alt=\"Open In Colab\"/></a>"
      ]
    },
    {
      "cell_type": "code",
      "source": [
        "!pip install pyomo"
      ],
      "metadata": {
        "id": "N3nEYr_Sv9pI"
      },
      "execution_count": null,
      "outputs": []
    },
    {
      "cell_type": "code",
      "source": [
        "import os\n",
        "import pyomo.environ as pyo\n",
        "from pyomo.opt import SolverFactory"
      ],
      "metadata": {
        "id": "cZ_UzJMcv-ek"
      },
      "execution_count": 2,
      "outputs": []
    },
    {
      "cell_type": "code",
      "execution_count": 5,
      "metadata": {
        "colab": {
          "base_uri": "https://localhost:8080/"
        },
        "id": "rwZPVSFGxYaj",
        "outputId": "f6bb1bd6-3e64-4c32-9992-1963fceed994"
      },
      "outputs": [
        {
          "output_type": "stream",
          "name": "stdout",
          "text": [
            "\n",
            "Problem: \n",
            "- Lower bound: -inf\n",
            "  Upper bound: inf\n",
            "  Number of objectives: 1\n",
            "  Number of constraints: 2\n",
            "  Number of variables: 2\n",
            "  Sense: unknown\n",
            "Solver: \n",
            "- Status: ok\n",
            "  Message: Ipopt 3.14.5\\x3a Optimal Solution Found\n",
            "  Termination condition: optimal\n",
            "  Id: 0\n",
            "Solution: \n",
            "- number of solutions: 0\n",
            "  number of solutions displayed: 0\n",
            "\n",
            "Objective Function = 2156.2500470424943\n",
            "The amount of x = 52.500000484974166\n",
            "The amount of y = 44.500000484974166\n"
          ]
        }
      ],
      "source": [
        "from pyomo.core.base.objective import maximize\n",
        "from pyomo.core.base.set_types import NonNegativeReals\n",
        "\n",
        "# Defining the model\n",
        "model = pyo.ConcreteModel()\n",
        "\n",
        "# Decision Variable\n",
        "model.x = pyo.Var(domain=NonNegativeReals)\n",
        "x = model.x\n",
        "model.y = pyo.Var(domain=NonNegativeReals)\n",
        "y = model.y\n",
        "\n",
        "# Objective Function\n",
        "def Objective_rule(model):\n",
        "  return x*y - 180\n",
        "\n",
        "model.obj = pyo.Objective(rule=Objective_rule, sense=maximize)\n",
        "\n",
        "# Constraints\n",
        "def Constraint_1(model):\n",
        "  return x-y == 8\n",
        "\n",
        "model.const1 = pyo.Constraint(rule=Constraint_1)\n",
        "\n",
        "def Constraint_2(model):\n",
        "  return x+y <= 97\n",
        "\n",
        "model.const2 = pyo.Constraint(rule=Constraint_2)\n",
        "\n",
        "# Solve\n",
        "os.environ['NEOS_EMAIL'] = 'lucaskydelima@gmail.com'\n",
        "solver_manager = pyo.SolverManagerFactory('neos')\n",
        "\n",
        "results = solver_manager.solve(model, opt='ipopt')\n",
        "\n",
        "print(results)\n",
        "print('Objective Function =', model.obj())\n",
        "print('The amount of x =', x())\n",
        "print('The amount of y =', y())"
      ]
    }
  ]
}