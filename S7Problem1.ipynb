{
  "nbformat": 4,
  "nbformat_minor": 0,
  "metadata": {
    "colab": {
      "provenance": [],
      "authorship_tag": "ABX9TyO9MRZZawr3WKlqDFxq20td",
      "include_colab_link": true
    },
    "kernelspec": {
      "name": "python3",
      "display_name": "Python 3"
    },
    "language_info": {
      "name": "python"
    }
  },
  "cells": [
    {
      "cell_type": "markdown",
      "metadata": {
        "id": "view-in-github",
        "colab_type": "text"
      },
      "source": [
        "<a href=\"https://colab.research.google.com/github/lucaskydelima/Optimization-with-Python-Pyomo/blob/main/S7Problem1.ipynb\" target=\"_parent\"><img src=\"https://colab.research.google.com/assets/colab-badge.svg\" alt=\"Open In Colab\"/></a>"
      ]
    },
    {
      "cell_type": "code",
      "execution_count": null,
      "metadata": {
        "id": "lTRFhDq4k4Z5"
      },
      "outputs": [],
      "source": [
        "! pip install pyomo\n"
      ]
    },
    {
      "cell_type": "code",
      "source": [
        "import os\n",
        "import pyomo.environ as pyo\n",
        "import pyomo.opt as SolverFactory"
      ],
      "metadata": {
        "id": "EGROMrPalPg3"
      },
      "execution_count": 2,
      "outputs": []
    },
    {
      "cell_type": "code",
      "source": [
        "model = pyo.ConcreteModel()\n",
        "\n",
        "#Decision Variable\n",
        "model.x1 = pyo.Var(domain = pyo.NonNegativeIntegers)\n",
        "x1 = model.x1\n",
        "\n",
        "model.x2 = pyo.Var(domain = pyo.NonNegativeIntegers)\n",
        "x2 = model.x2\n",
        "\n",
        "#Objective Function\n",
        "model.Objf = pyo.Objective(expr = 30*x1+35*x2 - 2*(x1**2) - 3*(x2**2), sense = pyo.maximize)\n",
        "\n",
        "#Constraints\n",
        "model.Const1 = pyo.Constraint(expr = x1+x2 <= 20)\n",
        "\n",
        "model.Const2 = pyo.Constraint(expr = (x1**2)+2*(x2**2)<=250)\n",
        "\n",
        "# Solve\n",
        "os.environ['NEOS_EMAIL'] = 'lucaskydelima@gmail.com'\n",
        "solver_manager = pyo.SolverManagerFactory('neos')\n",
        "results = solver_manager.solve(model, opt='bonmin')\n",
        "\n",
        "print(results)\n",
        "print('Objective Function= ',model.Objf())\n",
        "print('x1 = ',x1())\n",
        "print('x2 = ',x2())\n"
      ],
      "metadata": {
        "colab": {
          "base_uri": "https://localhost:8080/"
        },
        "id": "hcjUOCPnlb62",
        "outputId": "cb9ea5b6-add5-4f21-93b1-93410ff1e07a"
      },
      "execution_count": 12,
      "outputs": [
        {
          "output_type": "stream",
          "name": "stdout",
          "text": [
            "\n",
            "Problem: \n",
            "- Lower bound: -inf\n",
            "  Upper bound: inf\n",
            "  Number of objectives: 1\n",
            "  Number of constraints: 0\n",
            "  Number of variables: 2\n",
            "  Sense: unknown\n",
            "Solver: \n",
            "- Status: ok\n",
            "  Message: bonmin\\x3a Optimal\n",
            "  Termination condition: optimal\n",
            "  Id: 3\n",
            "Solution: \n",
            "- number of solutions: 0\n",
            "  number of solutions displayed: 0\n",
            "\n",
            "Objective Function=  214.0\n",
            "x1 =  7.0\n",
            "x2 =  6.0\n"
          ]
        }
      ]
    }
  ]
}