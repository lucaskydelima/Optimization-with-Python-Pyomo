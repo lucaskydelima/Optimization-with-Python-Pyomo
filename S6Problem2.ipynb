{
  "nbformat": 4,
  "nbformat_minor": 0,
  "metadata": {
    "colab": {
      "provenance": [],
      "authorship_tag": "ABX9TyN/iKEZQZ8cbUPEjVUS2Lgj",
      "include_colab_link": true
    },
    "kernelspec": {
      "name": "python3",
      "display_name": "Python 3"
    },
    "language_info": {
      "name": "python"
    }
  },
  "cells": [
    {
      "cell_type": "markdown",
      "metadata": {
        "id": "view-in-github",
        "colab_type": "text"
      },
      "source": [
        "<a href=\"https://colab.research.google.com/github/lucaskydelima/Optimization-with-Python-Pyomo/blob/main/S6Problem2.ipynb\" target=\"_parent\"><img src=\"https://colab.research.google.com/assets/colab-badge.svg\" alt=\"Open In Colab\"/></a>"
      ]
    },
    {
      "cell_type": "code",
      "execution_count": null,
      "metadata": {
        "id": "11v2fYWox6iq"
      },
      "outputs": [],
      "source": [
        "! pip install pyomo"
      ]
    },
    {
      "cell_type": "code",
      "source": [
        "import os\n",
        "import pyomo.environ as pyo\n",
        "from pyomo.opt import SolverFactory"
      ],
      "metadata": {
        "id": "C2gecLrSyA_J"
      },
      "execution_count": 3,
      "outputs": []
    },
    {
      "cell_type": "code",
      "source": [
        "from random import randint\n",
        "from pyomo.core.base.set_types import NonNegativeReals\n",
        "\n",
        "# Defining the model\n",
        "model = pyo.ConcreteModel()\n",
        "\n",
        "# Decision Variables\n",
        "model.A = pyo.Var(domain=NonNegativeReals)\n",
        "A = model.A\n",
        "model.B = pyo.Var(domain=NonNegativeReals)\n",
        "B = model.B\n",
        "\n",
        "model.x1 = pyo.Var(domain=NonNegativeReals)\n",
        "x1 = model.x1\n",
        "model.x2 = pyo.Var(domain=NonNegativeReals)\n",
        "x2 = model.x2\n",
        "model.x3 = pyo.Var(domain=NonNegativeReals)\n",
        "x3 = model.x3\n",
        "\n",
        "model.y1 = pyo.Var(domain=NonNegativeReals)\n",
        "y1 = model.y1\n",
        "model.y2 = pyo.Var(domain=NonNegativeReals)\n",
        "y2 = model.y2\n",
        "model.y3 = pyo.Var(domain=NonNegativeReals)\n",
        "y3 = model.y3\n",
        "\n",
        "# Objective Function\n",
        "def Objective_rule(model):\n",
        "  return 2 * (A+B)\n",
        "\n",
        "model.obj = pyo.Objective(rule=Objective_rule, sense=pyo.minimize)\n",
        "\n",
        "# Constraints\n",
        "def Constraint_1(model):\n",
        "  return x1 >= 6 \n",
        "\n",
        "model.const1 = pyo.Constraint(rule=Constraint_1)\n",
        "\n",
        "def Constraint_2(model):\n",
        "  return y1 >= 6\n",
        "\n",
        "model.const2 = pyo.Constraint(rule=Constraint_2)\n",
        "\n",
        "def Constraint_3(model):\n",
        "  return x2 >= 12\n",
        "\n",
        "model.const3 = pyo.Constraint(rule=Constraint_3)\n",
        "\n",
        "def Constraint_4(model):\n",
        "  return y2 >= 12\n",
        "\n",
        "model.const4 = pyo.Constraint(rule=Constraint_4)\n",
        "\n",
        "def Constraint_5(model):\n",
        "  return x3 >= 16\n",
        "\n",
        "model.const5 = pyo.Constraint(rule=Constraint_5)\n",
        "\n",
        "def Constraint_6(model):\n",
        "  return y3 >= 16\n",
        "\n",
        "model.const6 = pyo.Constraint(rule=Constraint_6)\n",
        "\n",
        "def Constraint_7(model):\n",
        "  return x1 <= B-6\n",
        "\n",
        "model.const7 = pyo.Constraint(rule=Constraint_7)\n",
        "\n",
        "def Constraint_8(model):\n",
        "  return x2 <= B-12\n",
        "\n",
        "model.const8 = pyo.Constraint(rule=Constraint_8)\n",
        "\n",
        "def Constraint_9(model):\n",
        "  return x3 <= B-16\n",
        "\n",
        "model.const9 = pyo.Constraint(rule=Constraint_9)\n",
        "\n",
        "def Constraint_10(model):\n",
        "  return y1 <= A-6\n",
        "\n",
        "model.const10 = pyo.Constraint(rule=Constraint_10)\n",
        "\n",
        "def Constraint_11(model):\n",
        "  return y2 <= A-12\n",
        "\n",
        "model.const11 = pyo.Constraint(rule=Constraint_11)\n",
        "\n",
        "def Constraint_12(model):\n",
        "  return y3 <= A-16\n",
        "\n",
        "model.const12 = pyo.Constraint(rule=Constraint_12)\n",
        "\n",
        "def Constraint_13(model):\n",
        "  return pow(x2-x1,2) + pow(y2-y1,2) >= 324\n",
        "\n",
        "model.const13 = pyo.Constraint(rule=Constraint_13)\n",
        "\n",
        "def Constraint_14(model):\n",
        "  return pow(x3-x1,2) + pow(y3-y1,2) >= 484\n",
        "\n",
        "model.const14 = pyo.Constraint(rule=Constraint_14)\n",
        "\n",
        "def Constraint_15(model):\n",
        "  return pow(x3-x2,2) + pow(y3-y2,2) >= 784\n",
        "\n",
        "model.const15 = pyo.Constraint(rule=Constraint_15)\n",
        "\n",
        "# Solve\n",
        "os.environ['NEOS_EMAIL'] = 'lucaskydelima@gmail.com'\n",
        "solver_manager = pyo.SolverManagerFactory('neos')\n",
        "results = solver_manager.solve(model, opt='ipopt')\n",
        "\n",
        "print(results)\n",
        "print('Objective Function = ', model.obj())\n",
        "print('cm of the side of the box A =', A())\n",
        "print('cm of the side of the box B =', B())\n",
        "print('Coordinate of the center of circle 1 = (', x1(), ',', y1(), ')')\n",
        "print('Coordinate of the center of circle 2 = (', x2(), ',', y2(), ')')\n",
        "print('Coordinate of the center of circle 3 = (', x3(), ',', y3(), ')')"
      ],
      "metadata": {
        "colab": {
          "base_uri": "https://localhost:8080/"
        },
        "id": "Hi9VNIdXyJ5D",
        "outputId": "0f0e3c44-2d40-45c2-c257-e60cac2f829a"
      },
      "execution_count": 14,
      "outputs": [
        {
          "output_type": "stream",
          "name": "stdout",
          "text": [
            "\n",
            "Problem: \n",
            "- Lower bound: -inf\n",
            "  Upper bound: inf\n",
            "  Number of objectives: 1\n",
            "  Number of constraints: 15\n",
            "  Number of variables: 8\n",
            "  Sense: unknown\n",
            "Solver: \n",
            "- Status: ok\n",
            "  Message: Ipopt 3.14.5\\x3a Optimal Solution Found\n",
            "  Termination condition: optimal\n",
            "  Id: 0\n",
            "Solution: \n",
            "- number of solutions: 0\n",
            "  number of solutions displayed: 0\n",
            "\n",
            "Objective Function =  180.17805823980603\n",
            "cm of the side of the box A = 34.97056249993909\n",
            "cm of the side of the box B = 55.11846661996393\n",
            "Coordinate of the center of circle 1 = ( 5.99999994476563 , 5.999999941685595 )\n",
            "Coordinate of the center of circle 2 = ( 11.999999881699345 , 22.970562618686483 )\n",
            "Coordinate of the center of circle 3 = ( 39.118466778711046 , 15.999999844876506 )\n"
          ]
        }
      ]
    }
  ]
}