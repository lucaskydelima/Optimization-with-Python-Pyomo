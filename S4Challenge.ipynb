{
  "nbformat": 4,
  "nbformat_minor": 0,
  "metadata": {
    "colab": {
      "provenance": [],
      "authorship_tag": "ABX9TyNQxP7Y0ip75bHO4lUKw7Qs",
      "include_colab_link": true
    },
    "kernelspec": {
      "name": "python3",
      "display_name": "Python 3"
    },
    "language_info": {
      "name": "python"
    }
  },
  "cells": [
    {
      "cell_type": "markdown",
      "metadata": {
        "id": "view-in-github",
        "colab_type": "text"
      },
      "source": [
        "<a href=\"https://colab.research.google.com/github/lucaskydelima/Optimization-with-Python-Pyomo/blob/main/S4Challenge.ipynb\" target=\"_parent\"><img src=\"https://colab.research.google.com/assets/colab-badge.svg\" alt=\"Open In Colab\"/></a>"
      ]
    },
    {
      "cell_type": "code",
      "execution_count": null,
      "metadata": {
        "id": "No2lS7JwaAZL"
      },
      "outputs": [],
      "source": [
        "! pip install pyomo\n",
        "! apt-get install -y -qq glpk-utils"
      ]
    },
    {
      "cell_type": "code",
      "source": [
        "import pyomo.environ as pyo\n",
        "from pyomo.opt  import SolverFactory"
      ],
      "metadata": {
        "id": "ivexBP-aaeQF"
      },
      "execution_count": 2,
      "outputs": []
    },
    {
      "cell_type": "code",
      "source": [
        "from re import I\n",
        "from pyomo.core.base.PyomoModel import Constraint\n",
        "from pyomo.core.base.objective import minimize\n",
        "from pyomo.core import Objective\n",
        "\n",
        "# Defining the model\n",
        "model = pyo.ConcreteModel()\n",
        "\n",
        "# Sets\n",
        "model.i = pyo.RangeSet(1,3)\n",
        "model.j = pyo.RangeSet(1,4)\n",
        "\n",
        "# Params\n",
        "\n",
        "model.S = pyo.Param(model.i, initialize={1:35, 2:50, 3:40})\n",
        "S = model.S\n",
        "\n",
        "model.D = pyo.Param(model.j, initialize={1:45, 2:20, 3:30, 4:30})\n",
        "D = model.D\n",
        "\n",
        "model.P = pyo.Param(model.i, model.j, initialize= { \n",
        "                          (1,1): 8, (1,2): 6, (1,3): 10, (1,4): 9,\n",
        "                          (2,1): 9, (2,2): 12, (2,3): 13, (2,4): 7,\n",
        "                          (3,1): 14, (3,2): 9, (3,3): 16, (3,4): 5 })\n",
        "P = model.P\n",
        "\n",
        "# Decision Variable\n",
        "model.x = pyo.Var(model.i, model.j, within=pyo.NonNegativeReals)\n",
        "x = model.x\n",
        "\n",
        "# Objective Function\n",
        "def Objective_rule(model):\n",
        "  return sum(sum(P[i,j] * x[i,j] for j in model.j) for i in model.i)\n",
        "\n",
        "model.obj = pyo.Objective(rule = Objective_rule, sense = minimize)\n",
        "\n",
        "# Constraints\n",
        "def Constraint_1(model, j):\n",
        "  return sum(x[1, j] for j in model.j) <= S[1]\n",
        "\n",
        "model.constraint_1 = pyo.Constraint(model.j, rule = Constraint_1)\n",
        "\n",
        "def Constraint_2(model, j):\n",
        "  return sum(x[2, j] for j in model.j) <= S[2]\n",
        "\n",
        "model.constraint_2 = pyo.Constraint(model.j, rule = Constraint_2)\n",
        "\n",
        "def Constraint_3(model, j):\n",
        "  return sum(x[3, j] for j in model.j) <= S[3]\n",
        "\n",
        "model.constraint_3 = pyo.Constraint(model.j, rule = Constraint_3)\n",
        "\n",
        "def Constraint_4(model, i):\n",
        "  return sum(x[i, 1] for i in model.i) >= D[1]\n",
        "\n",
        "model.constraint_4 = pyo.Constraint(model.i, rule = Constraint_4)\n",
        "\n",
        "def Constraint_5(model, i):\n",
        "  return sum(x[i, 2] for i in model.i) >= D[2]\n",
        "\n",
        "model.constraint_5 = pyo.Constraint(model.i, rule = Constraint_5)\n",
        "\n",
        "def Constraint_6(model, i):\n",
        "  return sum(x[i, 3] for i in model.i) >= D[3]\n",
        "\n",
        "model.constraint_6 = pyo.Constraint(model.i, rule = Constraint_6)\n",
        "\n",
        "def Constraint_7(model, i):\n",
        "  return sum(x[i, 4] for i in model.i) >= D[4]\n",
        "\n",
        "model.constraint_7 = pyo.Constraint(model.i, rule = Constraint_7)\n",
        "\n",
        "\n",
        "# Solve\n",
        "solver = pyo.SolverFactory('glpk')\n",
        "results = solver.solve(model)\n",
        "\n",
        "print(results)\n",
        "for i in model.i:\n",
        "  for j in model.j:\n",
        "    print('Electricity send from Plant', i,'to City', j, '=', x[i,j]())\n"
      ],
      "metadata": {
        "colab": {
          "base_uri": "https://localhost:8080/"
        },
        "id": "VORAzNwdawaa",
        "outputId": "c9a3a8a5-a280-47b2-bacf-206d1aa923fe"
      },
      "execution_count": 4,
      "outputs": [
        {
          "output_type": "stream",
          "name": "stdout",
          "text": [
            "\n",
            "Problem: \n",
            "- Name: unknown\n",
            "  Lower bound: 1020.0\n",
            "  Upper bound: 1020.0\n",
            "  Number of objectives: 1\n",
            "  Number of constraints: 25\n",
            "  Number of variables: 13\n",
            "  Number of nonzeros: 85\n",
            "  Sense: minimize\n",
            "Solver: \n",
            "- Status: ok\n",
            "  Termination condition: optimal\n",
            "  Statistics: \n",
            "    Branch and bound: \n",
            "      Number of bounded subproblems: 0\n",
            "      Number of created subproblems: 0\n",
            "  Error rc: 0\n",
            "  Time: 0.015472173690795898\n",
            "Solution: \n",
            "- number of solutions: 0\n",
            "  number of solutions displayed: 0\n",
            "\n",
            "Electricity send from Plant 1 to City 1 = 0.0\n",
            "Electricity send from Plant 1 to City 2 = 10.0\n",
            "Electricity send from Plant 1 to City 3 = 25.0\n",
            "Electricity send from Plant 1 to City 4 = 0.0\n",
            "Electricity send from Plant 2 to City 1 = 45.0\n",
            "Electricity send from Plant 2 to City 2 = 0.0\n",
            "Electricity send from Plant 2 to City 3 = 5.0\n",
            "Electricity send from Plant 2 to City 4 = 0.0\n",
            "Electricity send from Plant 3 to City 1 = 0.0\n",
            "Electricity send from Plant 3 to City 2 = 10.0\n",
            "Electricity send from Plant 3 to City 3 = 0.0\n",
            "Electricity send from Plant 3 to City 4 = 30.0\n"
          ]
        }
      ]
    }
  ]
}