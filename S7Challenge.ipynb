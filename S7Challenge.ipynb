{
  "nbformat": 4,
  "nbformat_minor": 0,
  "metadata": {
    "colab": {
      "provenance": [],
      "authorship_tag": "ABX9TyOim9jIbEgDhGetBOlwWGzO",
      "include_colab_link": true
    },
    "kernelspec": {
      "name": "python3",
      "display_name": "Python 3"
    },
    "language_info": {
      "name": "python"
    }
  },
  "cells": [
    {
      "cell_type": "markdown",
      "metadata": {
        "id": "view-in-github",
        "colab_type": "text"
      },
      "source": [
        "<a href=\"https://colab.research.google.com/github/lucaskydelima/Optimization-with-Python-Pyomo/blob/main/S7Challenge.ipynb\" target=\"_parent\"><img src=\"https://colab.research.google.com/assets/colab-badge.svg\" alt=\"Open In Colab\"/></a>"
      ]
    },
    {
      "cell_type": "code",
      "execution_count": null,
      "metadata": {
        "id": "-vahGZmbQ7ez"
      },
      "outputs": [],
      "source": [
        "! pip install pyomo"
      ]
    },
    {
      "cell_type": "code",
      "source": [
        "import os\n",
        "import pandas as pd\n",
        "import pyomo.environ as pyo\n",
        "from pyomo.opt import SolverFactory"
      ],
      "metadata": {
        "id": "emSMG_yXRN5D"
      },
      "execution_count": 6,
      "outputs": []
    },
    {
      "cell_type": "code",
      "source": [
        "model = pyo.ConcreteModel()\n",
        "\n",
        "#Sets\n",
        "model.i = pyo.RangeSet(1,3)\n",
        "\n",
        "#Parameters\n",
        "D = pd.read_excel('S7P3_Data.xlsx',sheet_name='Sheet1',header=0,index_col=0,usecols='A:J',nrows=3)\n",
        "#D['Co'][1]\n",
        "\n",
        "model.Vt = pyo.Param(initialize = 350)\n",
        "Vt = model.Vt\n",
        "model.DPt = pyo.Param(initialize = 400)\n",
        "DPt = model.DPt\n",
        "model.Wmax = pyo.Param(initialize = 2950)\n",
        "Wmax = model.Wmax\n",
        "model.Npmax = pyo.Param(initialize = 3)\n",
        "Npmax = model.Npmax\n",
        "model.Nsmax = pyo.Param(initialize = 3)\n",
        "Nsmax = model.Nsmax\n",
        "\n",
        "#Decision Variables\n",
        "#Positive Reals\n",
        "model.x = pyo.Var(model.i,domain=pyo.NonNegativeReals,bounds = (0,1))\n",
        "x = model.x\n",
        "model.v = pyo.Var(model.i,domain=pyo.NonNegativeReals,bounds = (0,Vt))\n",
        "v = model.v\n",
        "model.w = pyo.Var(model.i,domain=pyo.NonNegativeReals,bounds = (0,Wmax))\n",
        "w = model.w\n",
        "model.DP = pyo.Var(model.i,domain=pyo.NonNegativeReals,bounds = (0,DPt))\n",
        "DP = model.DP\n",
        "\n",
        "def Power_bound(model,i):\n",
        "  return (0,D['Pmax'][i])\n",
        "\n",
        "model.P = pyo.Var(model.i,domain=pyo.NonNegativeReals,bounds = Power_bound)\n",
        "P = model.P\n",
        "\n",
        "#Integer Variables\n",
        "model.Np = pyo.Var(model.i,domain = pyo.NonNegativeIntegers, bounds=(0,3))\n",
        "Np = model.Np\n",
        "model.Ns = pyo.Var(model.i,domain = pyo.NonNegativeIntegers, bounds=(0,3))\n",
        "Ns = model.Ns\n",
        "\n",
        "#Binary Variable\n",
        "model.z = pyo.Var(model.i,domain=pyo.Binary)\n",
        "z = model.z\n",
        "\n",
        "#Objective Function\n",
        "def Objective_rule(model):\n",
        "  return sum((D['Co'][i]+(D['Cp'][i]*P[i]))*Np[i]*Ns[i]*z[i] for i in model.i)\n",
        "model.Objf = pyo.Objective(rule=Objective_rule,sense=pyo.minimize)\n",
        "\n",
        "#Constraints\n",
        "def Constraint1(model,i):\n",
        "  return sum(x[i] for i in model.i) == 1\n",
        "model.Const1 = pyo.Constraint(model.i,rule=Constraint1)\n",
        "\n",
        "def Constraint2(model,i):\n",
        "  return P[i] - D['alpha'][i]*(w[i]/Wmax)**3 - D['beta'][i]*(w[i]/Wmax)**2*v[i] - D['gamma'][i]*(w[i]/Wmax)*(v[i]**2) == 0\n",
        "model.Const2 = pyo.Constraint(model.i,rule=Constraint2)\n",
        "\n",
        "def Constraint3(model,i):\n",
        "  return DP[i] - D['a'][i]*(w[i]/Wmax)**2 - D['b'][i]*(w[i]/Wmax)*v[i] - D['c'][i]*(v[i]**2) == 0\n",
        "model.Const3 = pyo.Constraint(model.i,rule=Constraint3)\n",
        "\n",
        "def Constraint4(model,i):\n",
        "  return v[i]*Np[i] - x[i]*Vt == 0\n",
        "model.Const4 = pyo.Constraint(model.i,rule=Constraint4)\n",
        "\n",
        "def Constraint5(model,i):\n",
        "  return DPt*z[i] - DP[i]*Ns[i] == 0\n",
        "model.Const5 = pyo.Constraint(model.i,rule=Constraint5)\n",
        "\n",
        "def Constraint6(model,i):\n",
        "  return P[i] <= z[i]*D['Pmax'][i]\n",
        "model.Const6 = pyo.Constraint(model.i, rule=Constraint6)\n",
        "\n",
        "def Constraint7(model,i):\n",
        "  return DP[i] <= z[i]*DPt\n",
        "model.Const7 = pyo.Constraint(model.i, rule=Constraint7)\n",
        "\n",
        "def Constraint8(model,i):\n",
        "  return v[i] <= z[i]*Vt\n",
        "model.Const8 = pyo.Constraint(model.i, rule=Constraint8)\n",
        "\n",
        "def Constraint9(model,i):\n",
        "  return w[i] <= z[i]*Wmax\n",
        "model.Const9 = pyo.Constraint(model.i, rule=Constraint9)\n",
        "\n",
        "def Constraint10(model,i):\n",
        "  return Np[i] <= z[i]*Npmax\n",
        "model.Const10 = pyo.Constraint(model.i, rule=Constraint10)\n",
        "\n",
        "def Constraint11(model,i):\n",
        "  return Ns[i] <= z[i]*Nsmax\n",
        "model.Const11 = pyo.Constraint(model.i, rule=Constraint11)\n",
        "\n",
        "def Constraint12(model,i):\n",
        "  return x[i]<=z[i]\n",
        "model.Const12 = pyo.Constraint(model.i, rule=Constraint12)\n",
        "\n",
        "# Solve\n",
        "os.environ['NEOS_EMAIL'] = 'lucaskydelima@gmail.com'\n",
        "solver_manager = pyo.SolverManagerFactory('neos')\n",
        "results = solver_manager.solve(model, opt='bonmin')\n",
        "\n",
        "print(results)\n",
        "print('Objective Function= ',model.Objf())\n",
        "for i in model.i:\n",
        "  print('Number of Parallel Lines at Level ',i,'is = ',Np[i]())\n",
        "  print('Number of Pumps in Each Line at Level ',i,'is = ',Ns[i]())\n"
      ],
      "metadata": {
        "id": "FVx-aFFORZmQ"
      },
      "execution_count": null,
      "outputs": []
    }
  ]
}