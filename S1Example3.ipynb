{
  "nbformat": 4,
  "nbformat_minor": 0,
  "metadata": {
    "colab": {
      "provenance": [],
      "authorship_tag": "ABX9TyOTpnUgiZSh+q3d8e4auaut",
      "include_colab_link": true
    },
    "kernelspec": {
      "name": "python3",
      "display_name": "Python 3"
    },
    "language_info": {
      "name": "python"
    }
  },
  "cells": [
    {
      "cell_type": "markdown",
      "metadata": {
        "id": "view-in-github",
        "colab_type": "text"
      },
      "source": [
        "<a href=\"https://colab.research.google.com/github/lucaskydelima/Optimization-with-Python-Pyomo/blob/main/S1Example3.ipynb\" target=\"_parent\"><img src=\"https://colab.research.google.com/assets/colab-badge.svg\" alt=\"Open In Colab\"/></a>"
      ]
    },
    {
      "cell_type": "code",
      "execution_count": null,
      "metadata": {
        "id": "RevbAllfGUpc"
      },
      "outputs": [],
      "source": [
        "! pip install pyomo\n",
        "! apt-get -y -qq install glpk-utils"
      ]
    },
    {
      "cell_type": "code",
      "source": [
        "import pyomo.environ as pyo\n",
        "from pyomo.opt import SolverFactory"
      ],
      "metadata": {
        "id": "2P-or9YmGa_d"
      },
      "execution_count": 2,
      "outputs": []
    },
    {
      "cell_type": "code",
      "source": [
        "# Defining the model\n",
        "# Using set definition - S1Example1 - a revisit\n",
        "model = pyo.ConcreteModel()\n",
        "\n",
        "# Set\n",
        "model.i = pyo.Set(initialize=('HIW', 'HIM'))\n",
        "model.j = pyo.Set(initialize=('Comedy', 'Football'))\n",
        "\n",
        "\n",
        "# Params\n",
        "model.cost = pyo.Param(model.j, initialize={'Comedy': 50000, 'Football': 100000})\n",
        "cost = model.cost\n",
        "model.minimum = pyo.Param(model.i, initialize={'HIW': 28,  'HIM': 24})\n",
        "minimum = model.minimum\n",
        "model.viewers = pyo.Param(model.i, model.j, initialize={('HIW','Comedy'): 7, ('HIW','Football'): 2,\n",
        "                                                        ('HIM','Comedy'): 2, ('HIM','Football'): 12})\n",
        "viewers = model.viewers\n",
        "\n",
        "# Decision Variables\n",
        "model.x = pyo.Var(model.j, domain=pyo.NonNegativeReals)\n",
        "x = model.x\n",
        "\n",
        "# Objective Function\n",
        "def Objective_rule(model, j):\n",
        "  return sum(x[j]*cost[j] for j in model.j)\n",
        "model.obj = pyo.Objective(rule=Objective_rule, sense=pyo.minimize)\n",
        "\n",
        "def Constraint(model, i):\n",
        "  return sum(viewers[i,j]*x[j] for j in model.j) >= minimum[i]\n",
        "model.const = pyo.Constraint(model.i, rule=Constraint, doc = 'Viewership requirement')\n",
        "\n",
        "# Solve\n",
        "results = pyo.SolverFactory('glpk', executable='/usr/bin/glpsol').solve(model)\n",
        "\n",
        "results.write()\n",
        "print('\\n RESULTS \\n')\n",
        "print('Cost of advertisement campaign =', model.obj())\n",
        "print('Number of comedy ads purchased  =', x['Comedy']())\n",
        "print('Number of football ads purchased =', x['Football']())"
      ],
      "metadata": {
        "colab": {
          "base_uri": "https://localhost:8080/"
        },
        "id": "hK6ZEQLEGfrd",
        "outputId": "74854462-c76e-450b-e880-458594c6771d"
      },
      "execution_count": 7,
      "outputs": [
        {
          "output_type": "stream",
          "name": "stdout",
          "text": [
            "# ==========================================================\n",
            "# = Solver Results                                         =\n",
            "# ==========================================================\n",
            "# ----------------------------------------------------------\n",
            "#   Problem Information\n",
            "# ----------------------------------------------------------\n",
            "Problem: \n",
            "- Name: unknown\n",
            "  Lower bound: 320000.0\n",
            "  Upper bound: 320000.0\n",
            "  Number of objectives: 1\n",
            "  Number of constraints: 3\n",
            "  Number of variables: 3\n",
            "  Number of nonzeros: 5\n",
            "  Sense: minimize\n",
            "# ----------------------------------------------------------\n",
            "#   Solver Information\n",
            "# ----------------------------------------------------------\n",
            "Solver: \n",
            "- Status: ok\n",
            "  Termination condition: optimal\n",
            "  Statistics: \n",
            "    Branch and bound: \n",
            "      Number of bounded subproblems: 0\n",
            "      Number of created subproblems: 0\n",
            "  Error rc: 0\n",
            "  Time: 0.018023252487182617\n",
            "# ----------------------------------------------------------\n",
            "#   Solution Information\n",
            "# ----------------------------------------------------------\n",
            "Solution: \n",
            "- number of solutions: 0\n",
            "  number of solutions displayed: 0\n",
            "\n",
            " RESULTS \n",
            "\n",
            "Cost of advertisement campaign = 320000.0\n",
            "Number of comedy ads purchased  = 3.6\n",
            "Number of football ads purchased = 1.4\n"
          ]
        }
      ]
    }
  ]
}