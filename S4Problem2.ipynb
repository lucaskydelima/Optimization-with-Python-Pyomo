{
  "nbformat": 4,
  "nbformat_minor": 0,
  "metadata": {
    "colab": {
      "provenance": [],
      "authorship_tag": "ABX9TyNjUvfzO4Fy565OG0xJodsn",
      "include_colab_link": true
    },
    "kernelspec": {
      "name": "python3",
      "display_name": "Python 3"
    },
    "language_info": {
      "name": "python"
    }
  },
  "cells": [
    {
      "cell_type": "markdown",
      "metadata": {
        "id": "view-in-github",
        "colab_type": "text"
      },
      "source": [
        "<a href=\"https://colab.research.google.com/github/lucaskydelima/Optimization-with-Python-Pyomo/blob/main/S4Problem2.ipynb\" target=\"_parent\"><img src=\"https://colab.research.google.com/assets/colab-badge.svg\" alt=\"Open In Colab\"/></a>"
      ]
    },
    {
      "cell_type": "code",
      "execution_count": 1,
      "metadata": {
        "colab": {
          "base_uri": "https://localhost:8080/"
        },
        "id": "WAxZ93-Q-B2L",
        "outputId": "5bc7ad32-188b-494d-f112-2ca5853b88fb"
      },
      "outputs": [
        {
          "output_type": "stream",
          "name": "stdout",
          "text": [
            "Looking in indexes: https://pypi.org/simple, https://us-python.pkg.dev/colab-wheels/public/simple/\n",
            "Collecting pyomo\n",
            "  Downloading Pyomo-6.5.0-cp38-cp38-manylinux_2_17_x86_64.manylinux2014_x86_64.whl (11.2 MB)\n",
            "\u001b[2K     \u001b[90m━━━━━━━━━━━━━━━━━━━━━━━━━━━━━━━━━━━━━━━━\u001b[0m \u001b[32m11.2/11.2 MB\u001b[0m \u001b[31m36.8 MB/s\u001b[0m eta \u001b[36m0:00:00\u001b[0m\n",
            "\u001b[?25hCollecting ply\n",
            "  Downloading ply-3.11-py2.py3-none-any.whl (49 kB)\n",
            "\u001b[2K     \u001b[90m━━━━━━━━━━━━━━━━━━━━━━━━━━━━━━━━━━━━━━━━\u001b[0m \u001b[32m49.6/49.6 KB\u001b[0m \u001b[31m3.1 MB/s\u001b[0m eta \u001b[36m0:00:00\u001b[0m\n",
            "\u001b[?25hInstalling collected packages: ply, pyomo\n",
            "Successfully installed ply-3.11 pyomo-6.5.0\n",
            "Selecting previously unselected package libsuitesparseconfig5:amd64.\n",
            "(Reading database ... 128126 files and directories currently installed.)\n",
            "Preparing to unpack .../libsuitesparseconfig5_1%3a5.7.1+dfsg-2_amd64.deb ...\n",
            "Unpacking libsuitesparseconfig5:amd64 (1:5.7.1+dfsg-2) ...\n",
            "Selecting previously unselected package libamd2:amd64.\n",
            "Preparing to unpack .../libamd2_1%3a5.7.1+dfsg-2_amd64.deb ...\n",
            "Unpacking libamd2:amd64 (1:5.7.1+dfsg-2) ...\n",
            "Selecting previously unselected package libcolamd2:amd64.\n",
            "Preparing to unpack .../libcolamd2_1%3a5.7.1+dfsg-2_amd64.deb ...\n",
            "Unpacking libcolamd2:amd64 (1:5.7.1+dfsg-2) ...\n",
            "Selecting previously unselected package libglpk40:amd64.\n",
            "Preparing to unpack .../libglpk40_4.65-2_amd64.deb ...\n",
            "Unpacking libglpk40:amd64 (4.65-2) ...\n",
            "Selecting previously unselected package glpk-utils.\n",
            "Preparing to unpack .../glpk-utils_4.65-2_amd64.deb ...\n",
            "Unpacking glpk-utils (4.65-2) ...\n",
            "Setting up libsuitesparseconfig5:amd64 (1:5.7.1+dfsg-2) ...\n",
            "Setting up libamd2:amd64 (1:5.7.1+dfsg-2) ...\n",
            "Setting up libcolamd2:amd64 (1:5.7.1+dfsg-2) ...\n",
            "Setting up libglpk40:amd64 (4.65-2) ...\n",
            "Setting up glpk-utils (4.65-2) ...\n",
            "Processing triggers for man-db (2.9.1-1) ...\n",
            "Processing triggers for libc-bin (2.31-0ubuntu9.9) ...\n"
          ]
        }
      ],
      "source": [
        "!pip install pyomo\n",
        "!apt-get install -y -qq glpk-utils"
      ]
    },
    {
      "cell_type": "code",
      "source": [
        "import pyomo.environ as pyo\n",
        "from pyomo.opt import SolverFactory"
      ],
      "metadata": {
        "id": "SP6B6EWJ-_wh"
      },
      "execution_count": 2,
      "outputs": []
    },
    {
      "cell_type": "code",
      "source": [
        "from pyomo.core.base.PyomoModel import Constraint\n",
        "from pyomo.core.base.objective import maximize\n",
        "from pyomo.core import Objective\n",
        "\n",
        "# Defining the model\n",
        "model = pyo.ConcreteModel()\n",
        "\n",
        "# Set\n",
        "model.i = pyo.Set(initialize = ['Desk', 'Table', 'Chair'])\n",
        "\n",
        "# Params\n",
        "model.P = pyo.Param(model.i, initialize={'Desk': 60, 'Table': 30, 'Chair': 20})\n",
        "P = model.P\n",
        "model.L = pyo.Param(model.i, initialize={'Desk': 8, 'Table': 6, 'Chair': 1})\n",
        "L = model.L\n",
        "model.F = pyo.Param(model.i, initialize={'Desk': 4, 'Table': 2, 'Chair': 1.5})\n",
        "F = model.F\n",
        "model.C = pyo.Param(model.i, initialize={'Desk': 2, 'Table': 1.5, 'Chair': 0.5})\n",
        "C = model.C\n",
        "\n",
        "\n",
        "# Decision Variable\n",
        "model.x = pyo.Var(model.i, within=pyo.NonNegativeReals)\n",
        "x = model.x\n",
        "\n",
        "# Objective Function\n",
        "def Objective_rule(model):\n",
        "  return sum(P[i] * x[i] for i in model.i)\n",
        "\n",
        "model.obj = pyo.Objective(rule=Objective_rule, sense = maximize)\n",
        "\n",
        "# Constraints\n",
        "def Constraint1(model, i):\n",
        "  return sum(L[i] * x[i] for i in model.i) <= 48\n",
        "\n",
        "model.const1 = pyo.Constraint(model.i, rule=Constraint1)\n",
        "\n",
        "def Constraint2(model, i):\n",
        "  return sum(F[i] * x[i] for i in model.i) <= 20\n",
        "\n",
        "model.const2 = pyo.Constraint(model.i, rule=Constraint2)\n",
        "\n",
        "def Constraint3(model, i):\n",
        "  return sum(C[i] * x[i] for i in model.i) <= 8\n",
        "\n",
        "model.const3 = pyo.Constraint(model.i, rule=Constraint3)\n",
        "\n",
        "def Constraint4(model, i):\n",
        "  return x['Table'] <= 2\n",
        "\n",
        "model.const4 = pyo.Constraint(model.i, rule=Constraint4)\n",
        "\n",
        "# Solve\n",
        "solver = pyo.SolverFactory('glpk')\n",
        "results = solver.solve(model)\n",
        "\n",
        "print(results)\n",
        "print('Objective Function = ', model.obj())\n",
        "for i in model.i:\n",
        "  print('Number of ', i, 'produced = ', x[i]())\n"
      ],
      "metadata": {
        "colab": {
          "base_uri": "https://localhost:8080/"
        },
        "id": "0JgB2VyT_Lyt",
        "outputId": "e6bffd08-7cbb-4e6d-84bb-ae9b511e641c"
      },
      "execution_count": 5,
      "outputs": [
        {
          "output_type": "stream",
          "name": "stdout",
          "text": [
            "\n",
            "Problem: \n",
            "- Name: unknown\n",
            "  Lower bound: 280.0\n",
            "  Upper bound: 280.0\n",
            "  Number of objectives: 1\n",
            "  Number of constraints: 13\n",
            "  Number of variables: 4\n",
            "  Number of nonzeros: 31\n",
            "  Sense: maximize\n",
            "Solver: \n",
            "- Status: ok\n",
            "  Termination condition: optimal\n",
            "  Statistics: \n",
            "    Branch and bound: \n",
            "      Number of bounded subproblems: 0\n",
            "      Number of created subproblems: 0\n",
            "  Error rc: 0\n",
            "  Time: 0.028899669647216797\n",
            "Solution: \n",
            "- number of solutions: 0\n",
            "  number of solutions displayed: 0\n",
            "\n",
            "Objective Function =  280.0\n",
            "Number of  Desk produced =  2.0\n",
            "Number of  Table produced =  0.0\n",
            "Number of  Chair produced =  8.0\n"
          ]
        }
      ]
    }
  ]
}