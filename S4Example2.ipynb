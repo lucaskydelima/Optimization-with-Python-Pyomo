{
  "nbformat": 4,
  "nbformat_minor": 0,
  "metadata": {
    "colab": {
      "provenance": [],
      "authorship_tag": "ABX9TyOedJ3wYHxDAGSQgCnoRESA",
      "include_colab_link": true
    },
    "kernelspec": {
      "name": "python3",
      "display_name": "Python 3"
    },
    "language_info": {
      "name": "python"
    }
  },
  "cells": [
    {
      "cell_type": "markdown",
      "metadata": {
        "id": "view-in-github",
        "colab_type": "text"
      },
      "source": [
        "<a href=\"https://colab.research.google.com/github/lucaskydelima/Optimization-with-Python-Pyomo/blob/main/S4Example2.ipynb\" target=\"_parent\"><img src=\"https://colab.research.google.com/assets/colab-badge.svg\" alt=\"Open In Colab\"/></a>"
      ]
    },
    {
      "cell_type": "code",
      "execution_count": null,
      "metadata": {
        "id": "xJ9qxIJhTCxX"
      },
      "outputs": [],
      "source": [
        "! pip install pyomo"
      ]
    },
    {
      "cell_type": "code",
      "source": [
        "import os\n",
        "import pyomo.environ as pyo\n",
        "from pyomo.opt import SolverFactory"
      ],
      "metadata": {
        "id": "8eHVER3_TIxl"
      },
      "execution_count": 3,
      "outputs": []
    },
    {
      "cell_type": "code",
      "source": [
        "# Defining the model\n",
        "model = pyo.ConcreteModel()\n",
        "\n",
        "# Set\n",
        "model.p = pyo.Set(initialize=['milk', 'butter', 'cheese1', 'cheese2'])\n",
        "\n",
        "# Params\n",
        "data = pyo.DataPortal()\n",
        "data.load(filename='Pyomo_MINLP_example_2_input_data.json')\n",
        "\"\"\"\n",
        "{\t\"alpha\":{\"milk\":2.6,\"butter\":80,\"cheese1\":30.6,\"cheese2\":24.5},\n",
        "\t\"beta\":{\"milk\":8.6,\"butter\":2,\"cheese1\":29.7,\"cheese2\":37.1},\n",
        "\t\"mu\":{\"milk\":2055,\"butter\":54,\"cheese1\":63,\"cheese2\":17},\n",
        "\t\"chi\":{\"milk\":400,\"butter\":4000,\"cheese1\":3250,\"cheese2\":2500},\n",
        "\t\"epsilon\":{\"milk\":0.3,\"butter\":1.5,\"cheese1\":0.7,\"cheese2\":0.4},\n",
        "\t\"rho\":{\"milk\":6.4,\"butter\":1.6,\"cheese1\":1.6,\"cheese2\":0.4},\n",
        "\t\"nu\":[{\"index\":[\"cheese1\",\"cheese2\"],\"value\":0.06},\n",
        "\t          {\"index\":[\"cheese2\",\"cheese1\"],\"value\":0.30}\n",
        "]}\n",
        "\"\"\"\n",
        "model.alpha = pyo.Param(model.p, initialize=data['alpha'], doc='Fat content')\n",
        "model.beta = pyo.Param(model.p, initialize=data['beta'], doc='Dry matter  content')\n",
        "\n",
        "model.mu = pyo.Param(model.p, initialize=data['mu'], doc='Average demand')\n",
        "model.chi = pyo.Param(model.p, initialize=data['chi'], doc='Average price')\n",
        "\n",
        "model.epsilon = pyo.Param(model.p, initialize=data['epsilon'], doc='Elasticity')\n",
        "\n",
        "model.rho = pyo.Param(model.p, initialize=data['rho'], doc='Coefficients for policy constraint')\n",
        "\n",
        "model.nu = pyo.Param(model.p, model.p, initialize=data['nu'], doc='Cross elasticity')\n",
        "\n",
        "\n",
        "model.gamma = pyo.Param(initialize=121)\n",
        "model.theta = pyo.Param(initialize=250)\n",
        "\n",
        "# Decision Variables\n",
        "model.x = pyo.Var(model.p, domain=pyo.NonNegativeIntegers)\n",
        "model.c = pyo.Var(model.p, domain=pyo.NonNegativeReals)\n",
        "\n",
        "# Constraints\n",
        "def rule1(model, p):\n",
        "  return sum((model.alpha[p]/100)*model.x[p] for p in model.p) <= model.gamma\n",
        "model.const1 = pyo.Constraint(model.p, rule=rule1, doc='Fat content constraint')\n",
        "\n",
        "def rule2(model, p):\n",
        "  return sum((model.beta[p]/100)*model.x[p] for p in model.p) <= model.theta\n",
        "model.const2 = pyo.Constraint(model.p, rule=rule2, doc='Dry matter constraint')\n",
        "\n",
        "def rule3(model):\n",
        "  term1 = (model.x['milk'] - model.mu['milk'])/model.mu['milk']\n",
        "  term2 = -1*model.epsilon['milk']*(model.c['milk']-model.chi['milk'])/model.chi['milk']\n",
        "  return  term1 == term2\n",
        "model.const3 = pyo.Constraint(rule=rule3, doc='Linear demand relationship for milk')\n",
        "\n",
        "def rule4(model):\n",
        "  term1 = (model.x['butter'] - model.mu['butter'])/model.mu['butter'] \n",
        "  term2 = -1*model.epsilon['butter']*(model.c['butter']-model.chi['butter'])/model.chi['butter']\n",
        "  return term1 == term2 \n",
        "model.const4 = pyo.Constraint(rule=rule4, doc='Linear demand relationship for butter')\n",
        "\n",
        "def rule5(model):\n",
        "  term1 = (model.x['cheese1'] - model.mu['cheese1'])/model.mu['cheese1']\n",
        "  term2 = -1*model.epsilon['cheese1']*(model.c['cheese1']-model.chi['cheese1'])/model.chi['cheese1']\n",
        "  term3 = model.nu['cheese1', 'cheese2']*(model.c['cheese2']-model.chi['cheese2'])/model.chi['cheese2']\n",
        "  return term1 == term2 + term3\n",
        "model.const5 = pyo.Constraint(rule=rule5, doc='Linear demand relationship for cheese1')\n",
        "\n",
        "def rule6(model):\n",
        "  term1 = (model.x['cheese2'] - model.mu['cheese2'])/model.mu['cheese2']\n",
        "  term2 = -1*model.epsilon['cheese2']*(model.c['cheese2']-model.chi['cheese2'])/model.chi['cheese2']\n",
        "  term3 = model.nu['cheese2', 'cheese1']*(model.c['cheese1']-model.chi['cheese1'])/model.chi['cheese1']\n",
        "  return term1 == term2 + term3\n",
        "model.const6 = pyo.Constraint(rule=rule6, doc='Linear demand relationship for cheese2')\n",
        "\n",
        "def rule7(model):\n",
        "  return sum(model.rho[p]*(model.c[p]-model.chi[p])/model.chi[p] for p in model.p) == 0\n",
        "model.const7 = pyo.Constraint(rule=rule7)\n",
        "\n",
        "# Objective function\n",
        "def Objective_rule(model):\n",
        "  return sum(model.x[p]*model.c[p] for p in model.p)\n",
        "model.obj = pyo.Objective(rule=Objective_rule, sense=pyo.maximize)\n",
        "\n",
        "# Solve\n",
        "os.environ['NEOS_EMAIL'] = 'lucaskydelima@gmail.com'\n",
        "results = pyo.SolverManagerFactory('neos').solve(model, opt='minlp')\n",
        "\n",
        "results.write()\n",
        "\n",
        "print('\\nRESULTS')\n",
        "print('Total revenue =', model.obj())\n",
        "\n",
        "for p in model.p:\n",
        "  print('\\nAmount of product (',p,') consumed =', model.x[p](),'ktons')\n",
        "\n",
        "for p in model.p:\n",
        "  print('\\nPrice of product (',p,') =', model.c[p](),'(in 1000s of punds)')"
      ],
      "metadata": {
        "colab": {
          "base_uri": "https://localhost:8080/"
        },
        "id": "scZPVUFHTN1Z",
        "outputId": "02fbe9d9-1db3-4536-f727-eaeaeaae106e"
      },
      "execution_count": 10,
      "outputs": [
        {
          "output_type": "stream",
          "name": "stdout",
          "text": [
            "# ==========================================================\n",
            "# = Solver Results                                         =\n",
            "# ==========================================================\n",
            "# ----------------------------------------------------------\n",
            "#   Problem Information\n",
            "# ----------------------------------------------------------\n",
            "Problem: \n",
            "- Lower bound: -inf\n",
            "  Upper bound: inf\n",
            "  Number of objectives: 1\n",
            "  Number of constraints: 13\n",
            "  Number of variables: 8\n",
            "  Sense: unknown\n",
            "# ----------------------------------------------------------\n",
            "#   Solver Information\n",
            "# ----------------------------------------------------------\n",
            "Solver: \n",
            "- Status: ok\n",
            "  Message: MINLP-B&B (20100607)\\x3a Optimal solution found; 2209 subproblems, objective = 1285250; Evals\\x3a obj = 24147, constr = 24194, grad = 12159, Hes = 12208\n",
            "  Termination condition: optimal\n",
            "  Id: 0\n",
            "# ----------------------------------------------------------\n",
            "#   Solution Information\n",
            "# ----------------------------------------------------------\n",
            "Solution: \n",
            "- number of solutions: 0\n",
            "  number of solutions displayed: 0\n",
            "\n",
            "RESULTS\n",
            "Total revenue = 1285250.0\n",
            "\n",
            "Amount of product ( milk ) consumed = 2055.0 ktons\n",
            "\n",
            "Amount of product ( butter ) consumed = 54.0 ktons\n",
            "\n",
            "Amount of product ( cheese1 ) consumed = 63.0 ktons\n",
            "\n",
            "Amount of product ( cheese2 ) consumed = 17.0 ktons\n",
            "\n",
            "Price of product ( milk ) = 399.99999999999994 (in 1000s of punds)\n",
            "\n",
            "Price of product ( butter ) = 3999.9999999999995 (in 1000s of punds)\n",
            "\n",
            "Price of product ( cheese1 ) = 3250.0000000000005 (in 1000s of punds)\n",
            "\n",
            "Price of product ( cheese2 ) = 2500.000000000001 (in 1000s of punds)\n"
          ]
        }
      ]
    },
    {
      "cell_type": "code",
      "source": [
        "\"\"\"\n",
        "One strategy one can use to improve solver performance involves use of starting points where initial values are provided for the decision variables within the problem.  \n",
        "The specification of starting points involving good initial values for the individual variables is important in a NLP/MCP - Mixed complementarity problem, context for a number of reasons.\n",
        "\n",
        "  • Non-convex models may have multiple solutions and the solvers generally only try to find one local one.  An initial point in the right neighborhood is more likely to return a desirable solution.\n",
        "\n",
        "  • Initial values that satisfy or closely satisfy many of the constraints reduce the work involved in finding a first feasible solution.\n",
        "\n",
        "  • Initial values that are close to the optimal ones reduce the work required to find the optimal point and therefore the solution time.\n",
        "\n",
        "  • The progress of the optimization algorithm is based on good directional information and therefore on good derivatives.  The derivatives in a nonlinear model depend on the current point, and an improved initial point can improve solver performance.\n",
        "\n",
        "Source: https://www.gams.com/mccarlGuide/starting_points_--_initial_values.htm\n",
        "\"\"\""
      ],
      "metadata": {
        "id": "k0rCgZBtoagp"
      },
      "execution_count": null,
      "outputs": []
    }
  ]
}