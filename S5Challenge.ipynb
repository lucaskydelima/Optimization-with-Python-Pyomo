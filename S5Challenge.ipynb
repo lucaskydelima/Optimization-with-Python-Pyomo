{
  "nbformat": 4,
  "nbformat_minor": 0,
  "metadata": {
    "colab": {
      "provenance": [],
      "authorship_tag": "ABX9TyNIAJ+8U9vYJFggWkzOuDAM",
      "include_colab_link": true
    },
    "kernelspec": {
      "name": "python3",
      "display_name": "Python 3"
    },
    "language_info": {
      "name": "python"
    }
  },
  "cells": [
    {
      "cell_type": "markdown",
      "metadata": {
        "id": "view-in-github",
        "colab_type": "text"
      },
      "source": [
        "<a href=\"https://colab.research.google.com/github/lucaskydelima/Optimization-with-Python-Pyomo/blob/main/S5Challenge.ipynb\" target=\"_parent\"><img src=\"https://colab.research.google.com/assets/colab-badge.svg\" alt=\"Open In Colab\"/></a>"
      ]
    },
    {
      "cell_type": "code",
      "execution_count": null,
      "metadata": {
        "id": "X468gT2cx8Sz"
      },
      "outputs": [],
      "source": [
        "! pip install pyomo\n",
        "! pip install cplex -q"
      ]
    },
    {
      "cell_type": "code",
      "source": [
        "import pyomo.environ as pyo\n",
        "from pyomo.opt import SolverFactory\n",
        "import pandas as pd"
      ],
      "metadata": {
        "id": "pM9jNbYuyGtR"
      },
      "execution_count": 5,
      "outputs": []
    },
    {
      "cell_type": "code",
      "source": [
        "from IPython.core.interactiveshell import Integer\n",
        "from pyomo.core.base.objective import minimize\n",
        "\n",
        "# Defining the model\n",
        "model = pyo.ConcreteModel()\n",
        "\n",
        "# Sets\n",
        "model.i = pyo.Set(initialize = ['City1', 'City2', 'City3', 'City4', 'City5'])\n",
        "model.j = pyo.Set(initialize = ['City1', 'City2', 'City3', 'City4', 'City5'])\n",
        "\n",
        "model.ii = pyo.Set(initialize = ['City2', 'City3', 'City4', 'City5'])\n",
        "\n",
        "#Params\n",
        "C = pd.read_excel('S5P3_Data.xlsx', sheet_name='TSP', header=0, index_col=0, usecols='A:F', nrows=5)\n",
        "\n",
        "# Decision Variable\n",
        "model.x = pyo.Var(model.i, model.j, domain=pyo.Binary)\n",
        "x = model.x\n",
        "\n",
        "# Auxiliary Variable\n",
        "model.u = pyo.Var(model.i, domain=pyo.NonNegativeIntegers)\n",
        "u = model.u\n",
        "\n",
        "# Objective Function\n",
        "def Objective_rule(model):\n",
        "      return sum(sum(C[i][j]*x[i,j] for j in model.j) for i in model.i)\n",
        "\n",
        "model.obj = pyo.Objective(rule=Objective_rule, sense=pyo.minimize)\n",
        "\n",
        "\"\"\"\n",
        "The local constraints allow for subtours that don’t visit\n",
        "all n cities.\n",
        "\"\"\"\n",
        "def Constraint_1(model, j):\n",
        "  return sum(x[i,j] for i in model.i) == 1\n",
        "\n",
        "model.const1 = pyo.Constraint(model.j, rule=Constraint_1)\n",
        "\n",
        "def Constraint_2(model, i):\n",
        "  return sum(x[i,j] for j in model.j) == 1\n",
        "\n",
        "model.const2 = pyo.Constraint(model.i, rule=Constraint_2)\n",
        "\n",
        "\"\"\"\n",
        "https://how-to.aimms.com/Articles/332/332-Miller-Tucker-Zemlin-formulation.html\n",
        "https://phabi.ch/2021/09/19/tsp-subtour-elimination-by-miller-tucker-zemlin-constraint/\n",
        "\n",
        "\"\"\"\n",
        "# Subtour Elimination Constraints (Miller-Tucker-Zemlin formulation)\n",
        "def Constraint_3(model, i,j):\n",
        "  if i != j:\n",
        "    \"ui - uj + N*x[i,j] <= N - 1\"\n",
        "    \"uj > ui || uj >= ui + 1\"\n",
        "    return u[i] - u[j] + 5*x[i,j] <= 4\n",
        "  else:\n",
        "    return u[i] - u[j] == 0\n",
        "\n",
        "model.const13 = pyo.Constraint(model.ii, model.ii, rule = Constraint_3)\n",
        "\n",
        "# Solve\n",
        "solver = pyo.SolverFactory('cplex_direct')\n",
        "results = solver.solve(model)\n",
        "print(results)\n",
        "for i in model.i:\n",
        "  for j in model.j:\n",
        "    print('Salesman goes from', i, 'to', j, '=', x[i,j]())\n"
      ],
      "metadata": {
        "colab": {
          "base_uri": "https://localhost:8080/"
        },
        "id": "Oew0e4KiyQo8",
        "outputId": "73d83560-392c-4e90-9582-16b4214594bf"
      },
      "execution_count": 18,
      "outputs": [
        {
          "output_type": "stream",
          "name": "stdout",
          "text": [
            "\n",
            "Problem: \n",
            "- Name: \n",
            "  Lower bound: 668.0\n",
            "  Upper bound: 668.0\n",
            "  Number of objectives: 1\n",
            "  Number of constraints: 26\n",
            "  Number of variables: 30\n",
            "  Number of binary variables: 25\n",
            "  Number of integer variables: 5\n",
            "  Number of continuous variables: 0\n",
            "  Number of nonzeros: None\n",
            "  Sense: 1\n",
            "Solver: \n",
            "- Name: CPLEX 22.1.0.0\n",
            "  Status: ok\n",
            "  Wallclock time: 0.0077397823333740234\n",
            "  Termination condition: optimal\n",
            "Solution: \n",
            "- number of solutions: 0\n",
            "  number of solutions displayed: 0\n",
            "\n",
            "Salesman goes from City1 to City1 = 0.0\n",
            "Salesman goes from City1 to City2 = 0.0\n",
            "Salesman goes from City1 to City3 = 0.0\n",
            "Salesman goes from City1 to City4 = 0.0\n",
            "Salesman goes from City1 to City5 = 1.0\n",
            "Salesman goes from City2 to City1 = 0.0\n",
            "Salesman goes from City2 to City2 = 0.0\n",
            "Salesman goes from City2 to City3 = 0.0\n",
            "Salesman goes from City2 to City4 = 1.0\n",
            "Salesman goes from City2 to City5 = 0.0\n",
            "Salesman goes from City3 to City1 = 1.0\n",
            "Salesman goes from City3 to City2 = 0.0\n",
            "Salesman goes from City3 to City3 = 0.0\n",
            "Salesman goes from City3 to City4 = 0.0\n",
            "Salesman goes from City3 to City5 = 0.0\n",
            "Salesman goes from City4 to City1 = 0.0\n",
            "Salesman goes from City4 to City2 = 0.0\n",
            "Salesman goes from City4 to City3 = 1.0\n",
            "Salesman goes from City4 to City4 = 0.0\n",
            "Salesman goes from City4 to City5 = 0.0\n",
            "Salesman goes from City5 to City1 = 0.0\n",
            "Salesman goes from City5 to City2 = 1.0\n",
            "Salesman goes from City5 to City3 = 0.0\n",
            "Salesman goes from City5 to City4 = 0.0\n",
            "Salesman goes from City5 to City5 = 0.0\n"
          ]
        }
      ]
    }
  ]
}