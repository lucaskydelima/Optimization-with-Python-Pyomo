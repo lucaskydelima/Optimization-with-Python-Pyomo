{
  "nbformat": 4,
  "nbformat_minor": 0,
  "metadata": {
    "colab": {
      "provenance": [],
      "authorship_tag": "ABX9TyNz47b85Z3POVnWstnQt//Y",
      "include_colab_link": true
    },
    "kernelspec": {
      "name": "python3",
      "display_name": "Python 3"
    },
    "language_info": {
      "name": "python"
    }
  },
  "cells": [
    {
      "cell_type": "markdown",
      "metadata": {
        "id": "view-in-github",
        "colab_type": "text"
      },
      "source": [
        "<a href=\"https://colab.research.google.com/github/lucaskydelima/Optimization-with-Python-Pyomo/blob/main/S5Problem2.ipynb\" target=\"_parent\"><img src=\"https://colab.research.google.com/assets/colab-badge.svg\" alt=\"Open In Colab\"/></a>"
      ]
    },
    {
      "cell_type": "code",
      "execution_count": null,
      "metadata": {
        "id": "PLaX566NofYI"
      },
      "outputs": [],
      "source": [
        "! pip install pyomo\n",
        "! pip install cplex -q "
      ]
    },
    {
      "cell_type": "code",
      "source": [
        "import pyomo.environ as pyo\n",
        "from pyomo.opt import SolverFactory"
      ],
      "metadata": {
        "id": "ek98I9TCox-H"
      },
      "execution_count": 2,
      "outputs": []
    },
    {
      "cell_type": "code",
      "source": [
        "from pyomo.core.base.objective import minimize\n",
        "\n",
        "# Defining the model\n",
        "model = pyo.ConcreteModel()\n",
        "\n",
        "# Set\n",
        "model.i = pyo.Set(initialize=['PL1', 'PL2'])\n",
        "model.j = pyo.Set(initialize=['Type1', 'Type2', 'Type3'])\n",
        "\n",
        "# Params\n",
        "model.S = pyo.Param(model.i, model.j, initialize={('PL1', 'Type1'): 20, ('PL1', 'Type2'): 30, ('PL1', 'Type3'): 40,\n",
        "                                                  ('PL2', 'Type1'): 50, ('PL2', 'Type2'): 35, ('PL2', 'Type3'): 45})\n",
        "S = model.S\n",
        "\n",
        "model.Sa = pyo.Param(model.i, initialize={'PL1': 400, 'PL2': 600})\n",
        "Sa = model.Sa\n",
        "\n",
        "model.PC = pyo.Param(model.i, initialize={'PL1': 1000, 'PL2': 2000})\n",
        "PC = model.PC\n",
        "\n",
        "\n",
        "# Decision Variable\n",
        "model.x = pyo.Var(model.i, within=pyo.Integers)\n",
        "x = model.x\n",
        "\n",
        "model.y = pyo.Var(model.i, within=pyo.Binary)\n",
        "y = model.y\n",
        "\n",
        "# Objective Function\n",
        "def Objective_rule(model):\n",
        "  return sum(Sa[i]*x[i] + PC[i]*y[i] for i in model.i)\n",
        "\n",
        "model.obj = pyo.Objective(rule = Objective_rule, sense=minimize)\n",
        "\n",
        "# Constraints\n",
        "def Constraint_1(model, i):\n",
        "  return sum(S[i,'Type1']*x[i] for i in model.i) >= 120\n",
        "\n",
        "model.const1 = pyo.Constraint(model.i, rule = Constraint_1)\n",
        "\n",
        "def Constraint_2(model, i):\n",
        "  return sum(S[i,'Type2']*x[i] for i in model.i) >= 150\n",
        "\n",
        "model.const2 = pyo.Constraint(model.i, rule = Constraint_2)\n",
        "\n",
        "def Constraint_3(model, i):\n",
        "  return sum(S[i,'Type3']*x[i] for i in model.i) >= 200\n",
        "\n",
        "model.const3 = pyo.Constraint(model.i, rule = Constraint_3)\n",
        "\n",
        "def Constraint_4(model, i):\n",
        "  return x[i] <= 30*y[i]\n",
        "\n",
        "model.const4 = pyo.Constraint(model.i, rule = Constraint_4)\n",
        "\n",
        "# Solve\n",
        "solver = pyo.SolverFactory('cplex_direct')\n",
        "results = solver.solve(model)\n",
        "\n",
        "print(results)\n",
        "print('Objective Function = ', model.obj())\n",
        "for i in model.i:\n",
        "  print('Number of employees at', i, '=', x[i]())\n"
      ],
      "metadata": {
        "colab": {
          "base_uri": "https://localhost:8080/"
        },
        "id": "yhap_Ww6o7Cj",
        "outputId": "97912723-0bd7-4d60-d2e1-ab772c673425"
      },
      "execution_count": 11,
      "outputs": [
        {
          "output_type": "stream",
          "name": "stdout",
          "text": [
            "\n",
            "Problem: \n",
            "- Name: \n",
            "  Lower bound: 3400.0\n",
            "  Upper bound: 3400.0\n",
            "  Number of objectives: 1\n",
            "  Number of constraints: 8\n",
            "  Number of variables: 4\n",
            "  Number of binary variables: 2\n",
            "  Number of integer variables: 2\n",
            "  Number of continuous variables: 0\n",
            "  Number of nonzeros: None\n",
            "  Sense: 1\n",
            "Solver: \n",
            "- Name: CPLEX 22.1.0.0\n",
            "  Status: ok\n",
            "  Wallclock time: 0.004450798034667969\n",
            "  Termination condition: optimal\n",
            "Solution: \n",
            "- number of solutions: 0\n",
            "  number of solutions displayed: 0\n",
            "\n",
            "Objective Function =  3400.0\n",
            "Number of employees at PL1 = 6.0\n",
            "Number of employees at PL2 = 0.0\n"
          ]
        }
      ]
    }
  ]
}